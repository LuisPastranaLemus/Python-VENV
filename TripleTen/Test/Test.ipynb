{
 "cells": [
  {
   "cell_type": "code",
   "execution_count": 10,
   "metadata": {},
   "outputs": [
    {
     "name": "stdout",
     "output_type": "stream",
     "text": [
      "   A    B    C    D    E    F    G    H    I    J     K     L     M     N  \\\n",
      "0  1  101  201  301  401  501  601  701  801  901  1001  1101  1201  1301   \n",
      "1  2  102  202  302  402  502  602  702  802  902  1002  1102  1202  1302   \n",
      "2  3  103  203  303  403  503  603  703  803  903  1003  1103  1203  1303   \n",
      "3  4  104  204  304  404  504  604  704  804  904  1004  1104  1204  1304   \n",
      "4  5  105  205  305  405  505  605  705  805  905  1005  1105  1205  1305   \n",
      "\n",
      "      O     P     Q     R     S     T     U     V     W     X     Y     Z  \n",
      "0  1401  1501  1601  1701  1801  1901  2001  2101  2201  2301  2401  2501  \n",
      "1  1402  1502  1602  1702  1802  1902  2002  2102  2202  2302  2402  2502  \n",
      "2  1403  1503  1603  1703  1803  1903  2003  2103  2203  2303  2403  2503  \n",
      "3  1404  1504  1604  1704  1804  1904  2004  2104  2204  2304  2404  2504  \n",
      "4  1405  1505  1605  1705  1805  1905  2005  2105  2205  2305  2405  2505  \n",
      "   A    B    C    D    E    F    G    H    I    J     K     L     M     N  \\\n",
      "0  1  101  201  301  401  501  601  701  801  901  1001  1101  1201  1301   \n",
      "1  2  102  202  302  402  502  602  702  802  902  1002  1102  1202  1302   \n",
      "2  3  103  203  303  403  503  603  703  803  903  1003  1103  1203  1303   \n",
      "3  4  104  204  304  404  504  604  704  804  904  1004  1104  1204  1304   \n",
      "4  5  105  205  305  405  505  605  705  805  905  1005  1105  1205  1305   \n",
      "\n",
      "      O     P     Q     R     S     T     U     V     W     X     Y     Z  \n",
      "0  1401  1501  1601  1701  1801  1901  2001  2101  2201  2301  2401  2501  \n",
      "1  1402  1502  1602  1702  1802  1902  2002  2102  2202  2302  2402  2502  \n",
      "2  1403  1503  1603  1703  1803  1903  2003  2103  2203  2303  2403  2503  \n",
      "3  1404  1504  1604  1704  1804  1904  2004  2104  2204  2304  2404  2504  \n",
      "4  1405  1505  1605  1705  1805  1905  2005  2105  2205  2305  2405  2505  \n"
     ]
    }
   ],
   "source": [
    "import pandas as pd\n",
    "\n",
    "# Example DataFrame\n",
    "data = {\n",
    "    'A': range(1, 101),\n",
    "    'B': range(101, 201),\n",
    "    'C': range(201, 301),\n",
    "    'D': range(301, 401),\n",
    "    'E': range(401, 501),\n",
    "    'F': range(501, 601),\n",
    "    'G': range(601, 701),\n",
    "    'H': range(701, 801),\n",
    "    'I': range(801, 901),\n",
    "    'J': range(901, 1001),\n",
    "    'K': range(1001, 1101),\n",
    "    'L': range(1101, 1201),\n",
    "    'M': range(1201, 1301),\n",
    "    'N': range(1301, 1401),\n",
    "    'O': range(1401, 1501),\n",
    "    'P': range(1501, 1601),\n",
    "    'Q': range(1601, 1701),\n",
    "    'R': range(1701, 1801),\n",
    "    'S': range(1801, 1901),\n",
    "    'T': range(1901, 2001),\n",
    "    'U': range(2001, 2101),\n",
    "    'V': range(2101, 2201),\n",
    "    'W': range(2201, 2301),\n",
    "    'X': range(2301, 2401),\n",
    "    'Y': range(2401, 2501),\n",
    "    'Z': range(2501, 2601),\n",
    "}\n",
    "df = pd.DataFrame(data)\n",
    "\n",
    "# Default behavior (truncated output)\n",
    "print(df.head())\n",
    "\n",
    "# Display all columns\n",
    "pd.set_option('display.max_columns', None)\n",
    "print(df.head())"
   ]
  },
  {
   "cell_type": "code",
   "execution_count": null,
   "metadata": {},
   "outputs": [
    {
     "ename": "KeyError",
     "evalue": "'False: boolean label can not be used without a boolean index'",
     "output_type": "error",
     "traceback": [
      "\u001b[31m---------------------------------------------------------------------------\u001b[39m",
      "\u001b[31mKeyError\u001b[39m                                  Traceback (most recent call last)",
      "\u001b[36mCell\u001b[39m\u001b[36m \u001b[39m\u001b[32mIn[12]\u001b[39m\u001b[32m, line 14\u001b[39m\n\u001b[32m      3\u001b[39m data = {\n\u001b[32m      4\u001b[39m     \u001b[33m'\u001b[39m\u001b[33msucursal\u001b[39m\u001b[33m'\u001b[39m: [\u001b[33m'\u001b[39m\u001b[33mCentro\u001b[39m\u001b[33m'\u001b[39m, \u001b[33m'\u001b[39m\u001b[33mNorte\u001b[39m\u001b[33m'\u001b[39m, \u001b[33m'\u001b[39m\u001b[33mSur\u001b[39m\u001b[33m'\u001b[39m, \u001b[33m'\u001b[39m\u001b[33mCentro\u001b[39m\u001b[33m'\u001b[39m, \u001b[33m'\u001b[39m\u001b[33mNorte\u001b[39m\u001b[33m'\u001b[39m],\n\u001b[32m      5\u001b[39m     \u001b[33m'\u001b[39m\u001b[33mproducto\u001b[39m\u001b[33m'\u001b[39m: [\u001b[33m'\u001b[39m\u001b[33mCamiseta roja\u001b[39m\u001b[33m'\u001b[39m, \u001b[33m'\u001b[39m\u001b[33mZapatillas azules\u001b[39m\u001b[33m'\u001b[39m, \u001b[33m'\u001b[39m\u001b[33mCamisa blanca\u001b[39m\u001b[33m'\u001b[39m, \u001b[33m'\u001b[39m\u001b[33mJeans negro\u001b[39m\u001b[33m'\u001b[39m, \u001b[33m'\u001b[39m\u001b[33mCamiseta roja\u001b[39m\u001b[33m'\u001b[39m],\n\u001b[32m   (...)\u001b[39m\u001b[32m      9\u001b[39m     \u001b[33m'\u001b[39m\u001b[33mventa_total\u001b[39m\u001b[33m'\u001b[39m: [\u001b[32m31.98\u001b[39m, \u001b[32m49.99\u001b[39m, \u001b[32m89.97\u001b[39m, \u001b[32m39.99\u001b[39m, \u001b[32m63.96\u001b[39m]\n\u001b[32m     10\u001b[39m }\n\u001b[32m     12\u001b[39m df = pd.DataFrame(data)\n\u001b[32m---> \u001b[39m\u001b[32m14\u001b[39m sales = df.loc[\u001b[43mdf\u001b[49m\u001b[43m.\u001b[49m\u001b[43mloc\u001b[49m\u001b[43m[\u001b[49m\u001b[43m:\u001b[49m\u001b[43m,\u001b[49m\u001b[43m \u001b[49m\u001b[33;43m\"\u001b[39;49m\u001b[33;43msucursal\u001b[39;49m\u001b[33;43m\"\u001b[39;49m\u001b[43m \u001b[49m\u001b[43m==\u001b[49m\u001b[43m \u001b[49m\u001b[33;43m\"\u001b[39;49m\u001b[33;43mCentro\u001b[39;49m\u001b[33;43m\"\u001b[39;49m\u001b[43m]\u001b[49m | df.loc[:, \u001b[33m\"\u001b[39m\u001b[33msucursal\u001b[39m\u001b[33m\"\u001b[39m == \u001b[33m\"\u001b[39m\u001b[33mNorte\u001b[39m\u001b[33m\"\u001b[39m]]\n\u001b[32m     15\u001b[39m sales = df.loc[df.loc[:, \u001b[33m\"\u001b[39m\u001b[33mprecio_unitario\u001b[39m\u001b[33m\"\u001b[39m > \u001b[32m25\u001b[39m]]\n\u001b[32m     17\u001b[39m \u001b[38;5;28mprint\u001b[39m(sales)\n",
      "\u001b[36mFile \u001b[39m\u001b[32mc:\\Users\\luisp\\.virtualenvs\\Python-VENV-fXy5dZEI\\Lib\\site-packages\\pandas\\core\\indexing.py:1184\u001b[39m, in \u001b[36m_LocationIndexer.__getitem__\u001b[39m\u001b[34m(self, key)\u001b[39m\n\u001b[32m   1182\u001b[39m     \u001b[38;5;28;01mif\u001b[39;00m \u001b[38;5;28mself\u001b[39m._is_scalar_access(key):\n\u001b[32m   1183\u001b[39m         \u001b[38;5;28;01mreturn\u001b[39;00m \u001b[38;5;28mself\u001b[39m.obj._get_value(*key, takeable=\u001b[38;5;28mself\u001b[39m._takeable)\n\u001b[32m-> \u001b[39m\u001b[32m1184\u001b[39m     \u001b[38;5;28;01mreturn\u001b[39;00m \u001b[38;5;28;43mself\u001b[39;49m\u001b[43m.\u001b[49m\u001b[43m_getitem_tuple\u001b[49m\u001b[43m(\u001b[49m\u001b[43mkey\u001b[49m\u001b[43m)\u001b[49m\n\u001b[32m   1185\u001b[39m \u001b[38;5;28;01melse\u001b[39;00m:\n\u001b[32m   1186\u001b[39m     \u001b[38;5;66;03m# we by definition only have the 0th axis\u001b[39;00m\n\u001b[32m   1187\u001b[39m     axis = \u001b[38;5;28mself\u001b[39m.axis \u001b[38;5;129;01mor\u001b[39;00m \u001b[32m0\u001b[39m\n",
      "\u001b[36mFile \u001b[39m\u001b[32mc:\\Users\\luisp\\.virtualenvs\\Python-VENV-fXy5dZEI\\Lib\\site-packages\\pandas\\core\\indexing.py:1368\u001b[39m, in \u001b[36m_LocIndexer._getitem_tuple\u001b[39m\u001b[34m(self, tup)\u001b[39m\n\u001b[32m   1366\u001b[39m \u001b[38;5;28;01mwith\u001b[39;00m suppress(IndexingError):\n\u001b[32m   1367\u001b[39m     tup = \u001b[38;5;28mself\u001b[39m._expand_ellipsis(tup)\n\u001b[32m-> \u001b[39m\u001b[32m1368\u001b[39m     \u001b[38;5;28;01mreturn\u001b[39;00m \u001b[38;5;28;43mself\u001b[39;49m\u001b[43m.\u001b[49m\u001b[43m_getitem_lowerdim\u001b[49m\u001b[43m(\u001b[49m\u001b[43mtup\u001b[49m\u001b[43m)\u001b[49m\n\u001b[32m   1370\u001b[39m \u001b[38;5;66;03m# no multi-index, so validate all of the indexers\u001b[39;00m\n\u001b[32m   1371\u001b[39m tup = \u001b[38;5;28mself\u001b[39m._validate_tuple_indexer(tup)\n",
      "\u001b[36mFile \u001b[39m\u001b[32mc:\\Users\\luisp\\.virtualenvs\\Python-VENV-fXy5dZEI\\Lib\\site-packages\\pandas\\core\\indexing.py:1065\u001b[39m, in \u001b[36m_LocationIndexer._getitem_lowerdim\u001b[39m\u001b[34m(self, tup)\u001b[39m\n\u001b[32m   1061\u001b[39m \u001b[38;5;28;01mfor\u001b[39;00m i, key \u001b[38;5;129;01min\u001b[39;00m \u001b[38;5;28menumerate\u001b[39m(tup):\n\u001b[32m   1062\u001b[39m     \u001b[38;5;28;01mif\u001b[39;00m is_label_like(key):\n\u001b[32m   1063\u001b[39m         \u001b[38;5;66;03m# We don't need to check for tuples here because those are\u001b[39;00m\n\u001b[32m   1064\u001b[39m         \u001b[38;5;66;03m#  caught by the _is_nested_tuple_indexer check above.\u001b[39;00m\n\u001b[32m-> \u001b[39m\u001b[32m1065\u001b[39m         section = \u001b[38;5;28;43mself\u001b[39;49m\u001b[43m.\u001b[49m\u001b[43m_getitem_axis\u001b[49m\u001b[43m(\u001b[49m\u001b[43mkey\u001b[49m\u001b[43m,\u001b[49m\u001b[43m \u001b[49m\u001b[43maxis\u001b[49m\u001b[43m=\u001b[49m\u001b[43mi\u001b[49m\u001b[43m)\u001b[49m\n\u001b[32m   1067\u001b[39m         \u001b[38;5;66;03m# We should never have a scalar section here, because\u001b[39;00m\n\u001b[32m   1068\u001b[39m         \u001b[38;5;66;03m#  _getitem_lowerdim is only called after a check for\u001b[39;00m\n\u001b[32m   1069\u001b[39m         \u001b[38;5;66;03m#  is_scalar_access, which that would be.\u001b[39;00m\n\u001b[32m   1070\u001b[39m         \u001b[38;5;28;01mif\u001b[39;00m section.ndim == \u001b[38;5;28mself\u001b[39m.ndim:\n\u001b[32m   1071\u001b[39m             \u001b[38;5;66;03m# we're in the middle of slicing through a MultiIndex\u001b[39;00m\n\u001b[32m   1072\u001b[39m             \u001b[38;5;66;03m# revise the key wrt to `section` by inserting an _NS\u001b[39;00m\n",
      "\u001b[36mFile \u001b[39m\u001b[32mc:\\Users\\luisp\\.virtualenvs\\Python-VENV-fXy5dZEI\\Lib\\site-packages\\pandas\\core\\indexing.py:1430\u001b[39m, in \u001b[36m_LocIndexer._getitem_axis\u001b[39m\u001b[34m(self, key, axis)\u001b[39m\n\u001b[32m   1427\u001b[39m         \u001b[38;5;28;01mreturn\u001b[39;00m \u001b[38;5;28mself\u001b[39m.obj.iloc[\u001b[38;5;28mtuple\u001b[39m(indexer)]\n\u001b[32m   1429\u001b[39m \u001b[38;5;66;03m# fall thru to straight lookup\u001b[39;00m\n\u001b[32m-> \u001b[39m\u001b[32m1430\u001b[39m \u001b[38;5;28;43mself\u001b[39;49m\u001b[43m.\u001b[49m\u001b[43m_validate_key\u001b[49m\u001b[43m(\u001b[49m\u001b[43mkey\u001b[49m\u001b[43m,\u001b[49m\u001b[43m \u001b[49m\u001b[43maxis\u001b[49m\u001b[43m)\u001b[49m\n\u001b[32m   1431\u001b[39m \u001b[38;5;28;01mreturn\u001b[39;00m \u001b[38;5;28mself\u001b[39m._get_label(key, axis=axis)\n",
      "\u001b[36mFile \u001b[39m\u001b[32mc:\\Users\\luisp\\.virtualenvs\\Python-VENV-fXy5dZEI\\Lib\\site-packages\\pandas\\core\\indexing.py:1239\u001b[39m, in \u001b[36m_LocIndexer._validate_key\u001b[39m\u001b[34m(self, key, axis)\u001b[39m\n\u001b[32m   1232\u001b[39m ax = \u001b[38;5;28mself\u001b[39m.obj._get_axis(axis)\n\u001b[32m   1233\u001b[39m \u001b[38;5;28;01mif\u001b[39;00m \u001b[38;5;28misinstance\u001b[39m(key, \u001b[38;5;28mbool\u001b[39m) \u001b[38;5;129;01mand\u001b[39;00m \u001b[38;5;129;01mnot\u001b[39;00m (\n\u001b[32m   1234\u001b[39m     is_bool_dtype(ax.dtype)\n\u001b[32m   1235\u001b[39m     \u001b[38;5;129;01mor\u001b[39;00m ax.dtype.name == \u001b[33m\"\u001b[39m\u001b[33mboolean\u001b[39m\u001b[33m\"\u001b[39m\n\u001b[32m   1236\u001b[39m     \u001b[38;5;129;01mor\u001b[39;00m \u001b[38;5;28misinstance\u001b[39m(ax, MultiIndex)\n\u001b[32m   1237\u001b[39m     \u001b[38;5;129;01mand\u001b[39;00m is_bool_dtype(ax.get_level_values(\u001b[32m0\u001b[39m).dtype)\n\u001b[32m   1238\u001b[39m ):\n\u001b[32m-> \u001b[39m\u001b[32m1239\u001b[39m     \u001b[38;5;28;01mraise\u001b[39;00m \u001b[38;5;167;01mKeyError\u001b[39;00m(\n\u001b[32m   1240\u001b[39m         \u001b[33mf\u001b[39m\u001b[33m\"\u001b[39m\u001b[38;5;132;01m{\u001b[39;00mkey\u001b[38;5;132;01m}\u001b[39;00m\u001b[33m: boolean label can not be used without a boolean index\u001b[39m\u001b[33m\"\u001b[39m\n\u001b[32m   1241\u001b[39m     )\n\u001b[32m   1243\u001b[39m \u001b[38;5;28;01mif\u001b[39;00m \u001b[38;5;28misinstance\u001b[39m(key, \u001b[38;5;28mslice\u001b[39m) \u001b[38;5;129;01mand\u001b[39;00m (\n\u001b[32m   1244\u001b[39m     \u001b[38;5;28misinstance\u001b[39m(key.start, \u001b[38;5;28mbool\u001b[39m) \u001b[38;5;129;01mor\u001b[39;00m \u001b[38;5;28misinstance\u001b[39m(key.stop, \u001b[38;5;28mbool\u001b[39m)\n\u001b[32m   1245\u001b[39m ):\n\u001b[32m   1246\u001b[39m     \u001b[38;5;28;01mraise\u001b[39;00m \u001b[38;5;167;01mTypeError\u001b[39;00m(\u001b[33mf\u001b[39m\u001b[33m\"\u001b[39m\u001b[38;5;132;01m{\u001b[39;00mkey\u001b[38;5;132;01m}\u001b[39;00m\u001b[33m: boolean values can not be used in a slice\u001b[39m\u001b[33m\"\u001b[39m)\n",
      "\u001b[31mKeyError\u001b[39m: 'False: boolean label can not be used without a boolean index'"
     ]
    }
   ],
   "source": [
    "import pandas as pd\n",
    "\n",
    "data = {\n",
    "    'sucursal': ['Centro', 'Norte', 'Sur', 'Centro', 'Norte'],\n",
    "    'producto': ['Camiseta roja', 'Zapatillas azules', 'Camisa blanca', 'Jeans negro', 'Camiseta roja'],\n",
    "    'cliente': ['Ana Garcia', 'Luis Rodriguez', 'Pedro Hernandez', 'Maria Lopez', 'Juan Perez'],\n",
    "    'cantidad': [2, 1, 3, 1, 4],\n",
    "    'precio_unitario': [15.99, 49.99, 29.99, 39.99, 15.99],\n",
    "    'venta_total': [31.98, 49.99, 89.97, 39.99, 63.96]\n",
    "}\n",
    "\n",
    "df = pd.DataFrame(data)\n",
    "\n",
    "sales = df.loc[df.loc[:, \"sucursal\"]]\n",
    "sales = df.loc[df.loc[:, \"precio_unitario\" > 25]]\n",
    "\n",
    "print(sales)"
   ]
  }
 ],
 "metadata": {
  "kernelspec": {
   "display_name": "Python-VENV-fXy5dZEI",
   "language": "python",
   "name": "python3"
  },
  "language_info": {
   "codemirror_mode": {
    "name": "ipython",
    "version": 3
   },
   "file_extension": ".py",
   "mimetype": "text/x-python",
   "name": "python",
   "nbconvert_exporter": "python",
   "pygments_lexer": "ipython3",
   "version": "3.13.2"
  }
 },
 "nbformat": 4,
 "nbformat_minor": 2
}

{
 "cells": [
  {
   "cell_type": "code",
   "execution_count": null,
   "metadata": {},
   "outputs": [],
   "source": [
    "def stringSpecCharsCleanse(strng, rplcChr):\n",
    "\n",
    "    # Define the special characters\n",
    "    specialChars = ['!', '@', '#', '$', '%', '^', '&', '*', '(', ')', '-', '_', '+', '=', '{', '}', '[', ']', '|', '\\\\', ':', ';', '\"', \n",
    "                    \"'\", '<', '>', ',', '.', '?', '/', '~', '`','°', '¬', '¦', '¢', '£', '¤', '¥', '§', '©', 'ª', '«', '®', '¯', '°', '±', \n",
    "                    '²', '³', '´', 'µ', '¶', '·', '¸', '¹', 'º', '»', '¼', '½', '¾', '¿', '×', '÷', '¡', '¿'] \n",
    "    \n",
    "    # Remove the special characters from the string\n",
    "    for char in specialChars:\n",
    "        strng = strng.replace(char, rplcChr)\n",
    "\n",
    "    # Return the cleansed string\n",
    "    return strng"
   ]
  }
 ],
 "metadata": {
  "language_info": {
   "name": "python"
  }
 },
 "nbformat": 4,
 "nbformat_minor": 2
}

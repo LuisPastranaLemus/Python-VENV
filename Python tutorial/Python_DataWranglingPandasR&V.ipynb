{
 "cells": [
  {
   "cell_type": "markdown",
   "id": "da9d0e45",
   "metadata": {},
   "source": [
    "### __Python Data Wrangling Read and Visualize__"
   ]
  },
  {
   "cell_type": "markdown",
   "id": "00f4b4a2",
   "metadata": {},
   "source": [
    "##### __Read CSV files with different delimeters rather than comma__"
   ]
  },
  {
   "cell_type": "code",
   "execution_count": 4,
   "id": "f3297b13",
   "metadata": {},
   "outputs": [
    {
     "name": "stdout",
     "output_type": "stream",
     "text": [
      "  Afghanistan|Kajaki Hydroelectric Power Plant Afghanistan|33   0|32   322|65  \\\n",
      "0                        Afghanistan|Kandahar DOG|10            0|31    67|65   \n",
      "1                        Afghanistan|Kandahar JOL|10            0|31   623|65   \n",
      "2  Afghanistan|Mahipar Hydroelectric Power Plant ...            0|34   556|69   \n",
      "3  Afghanistan|Naghlu Dam Hydroelectric Power Pla...            0|34   641|69   \n",
      "4  Afghanistan|Nangarhar (Darunta) Hydroelectric ...           55|34  4847|70   \n",
      "\n",
      "    119|Hydro|  \n",
      "0   795|Solar|  \n",
      "1   792|Solar|  \n",
      "2  4787|Hydro|  \n",
      "3   717|Hydro|  \n",
      "4  3633|Hydro|  \n",
      "\n",
      "   Afghanistan       Kajaki Hydroelectric Power Plant Afghanistan   33,0  \\\n",
      "0  Afghanistan                                       Kandahar DOG   10,0   \n",
      "1  Afghanistan                                       Kandahar JOL   10,0   \n",
      "2  Afghanistan      Mahipar Hydroelectric Power Plant Afghanistan   66,0   \n",
      "3  Afghanistan   Naghlu Dam Hydroelectric Power Plant Afghanistan  100,0   \n",
      "4  Afghanistan  Nangarhar (Darunta) Hydroelectric Power Plant ...  11,55   \n",
      "\n",
      "    32,322   65,119  Hydro Unnamed: 6  \n",
      "0    31,67   65,795  Solar        NaN  \n",
      "1   31,623   65,792  Solar        NaN  \n",
      "2   34,556  69,4787  Hydro        NaN  \n",
      "3   34,641   69,717  Hydro        NaN  \n",
      "4  34,4847  70,3633  Hydro        NaN  \n"
     ]
    }
   ],
   "source": [
    "import pandas as pd\n",
    "\n",
    "df = pd.read_csv('DataSets/gpp_modified.csv')\n",
    "print(df.head())\n",
    "\n",
    "print()\n",
    "\n",
    "df = pd.read_csv('DataSets/gpp_modified.csv', sep='|')\n",
    "print(df.head())"
   ]
  },
  {
   "cell_type": "markdown",
   "id": "1bfa79c9",
   "metadata": {},
   "source": [
    "Still the column names are not shown correctly in the DataFrame"
   ]
  },
  {
   "cell_type": "code",
   "execution_count": 1,
   "id": "b17449ef",
   "metadata": {},
   "outputs": [
    {
     "name": "stdout",
     "output_type": "stream",
     "text": [
      "   Afghanistan       Kajaki Hydroelectric Power Plant Afghanistan   33,0  \\\n",
      "0  Afghanistan                                       Kandahar DOG   10,0   \n",
      "1  Afghanistan                                       Kandahar JOL   10,0   \n",
      "2  Afghanistan      Mahipar Hydroelectric Power Plant Afghanistan   66,0   \n",
      "3  Afghanistan   Naghlu Dam Hydroelectric Power Plant Afghanistan  100,0   \n",
      "4  Afghanistan  Nangarhar (Darunta) Hydroelectric Power Plant ...  11,55   \n",
      "\n",
      "    32,322   65,119  Hydro Unnamed: 6  \n",
      "0    31,67   65,795  Solar        NaN  \n",
      "1   31,623   65,792  Solar        NaN  \n",
      "2   34,556  69,4787  Hydro        NaN  \n",
      "3   34,641   69,717  Hydro        NaN  \n",
      "4  34,4847  70,3633  Hydro        NaN  \n",
      "\n"
     ]
    },
    {
     "ename": "ValueError",
     "evalue": "header must be integer or list of integers",
     "output_type": "error",
     "traceback": [
      "\u001b[31m---------------------------------------------------------------------------\u001b[39m",
      "\u001b[31mValueError\u001b[39m                                Traceback (most recent call last)",
      "\u001b[36mCell\u001b[39m\u001b[36m \u001b[39m\u001b[32mIn[1]\u001b[39m\u001b[32m, line 10\u001b[39m\n\u001b[32m      6\u001b[39m \u001b[38;5;28mprint\u001b[39m(df.head())\n\u001b[32m      8\u001b[39m \u001b[38;5;28mprint\u001b[39m()\n\u001b[32m---> \u001b[39m\u001b[32m10\u001b[39m df = \u001b[43mpd\u001b[49m\u001b[43m.\u001b[49m\u001b[43mread_csv\u001b[49m\u001b[43m(\u001b[49m\u001b[33;43m'\u001b[39;49m\u001b[33;43mDataSets/gpp_modified.csv\u001b[39;49m\u001b[33;43m'\u001b[39;49m\u001b[43m,\u001b[49m\u001b[43m \u001b[49m\u001b[43msep\u001b[49m\u001b[43m=\u001b[49m\u001b[33;43m'\u001b[39;49m\u001b[33;43m|\u001b[39;49m\u001b[33;43m'\u001b[39;49m\u001b[43m,\u001b[49m\u001b[43m \u001b[49m\u001b[43mheader\u001b[49m\u001b[43m=\u001b[49m\u001b[33;43m'\u001b[39;49m\u001b[33;43mNone\u001b[39;49m\u001b[33;43m'\u001b[39;49m\u001b[43m)\u001b[49m\n\u001b[32m     11\u001b[39m \u001b[38;5;28mprint\u001b[39m(df.head())\n",
      "\u001b[36mFile \u001b[39m\u001b[32mc:\\Users\\luisp\\.virtualenvs\\Python-VENV-fXy5dZEI\\Lib\\site-packages\\pandas\\io\\parsers\\readers.py:1026\u001b[39m, in \u001b[36mread_csv\u001b[39m\u001b[34m(filepath_or_buffer, sep, delimiter, header, names, index_col, usecols, dtype, engine, converters, true_values, false_values, skipinitialspace, skiprows, skipfooter, nrows, na_values, keep_default_na, na_filter, verbose, skip_blank_lines, parse_dates, infer_datetime_format, keep_date_col, date_parser, date_format, dayfirst, cache_dates, iterator, chunksize, compression, thousands, decimal, lineterminator, quotechar, quoting, doublequote, escapechar, comment, encoding, encoding_errors, dialect, on_bad_lines, delim_whitespace, low_memory, memory_map, float_precision, storage_options, dtype_backend)\u001b[39m\n\u001b[32m   1013\u001b[39m kwds_defaults = _refine_defaults_read(\n\u001b[32m   1014\u001b[39m     dialect,\n\u001b[32m   1015\u001b[39m     delimiter,\n\u001b[32m   (...)\u001b[39m\u001b[32m   1022\u001b[39m     dtype_backend=dtype_backend,\n\u001b[32m   1023\u001b[39m )\n\u001b[32m   1024\u001b[39m kwds.update(kwds_defaults)\n\u001b[32m-> \u001b[39m\u001b[32m1026\u001b[39m \u001b[38;5;28;01mreturn\u001b[39;00m \u001b[43m_read\u001b[49m\u001b[43m(\u001b[49m\u001b[43mfilepath_or_buffer\u001b[49m\u001b[43m,\u001b[49m\u001b[43m \u001b[49m\u001b[43mkwds\u001b[49m\u001b[43m)\u001b[49m\n",
      "\u001b[36mFile \u001b[39m\u001b[32mc:\\Users\\luisp\\.virtualenvs\\Python-VENV-fXy5dZEI\\Lib\\site-packages\\pandas\\io\\parsers\\readers.py:620\u001b[39m, in \u001b[36m_read\u001b[39m\u001b[34m(filepath_or_buffer, kwds)\u001b[39m\n\u001b[32m    617\u001b[39m _validate_names(kwds.get(\u001b[33m\"\u001b[39m\u001b[33mnames\u001b[39m\u001b[33m\"\u001b[39m, \u001b[38;5;28;01mNone\u001b[39;00m))\n\u001b[32m    619\u001b[39m \u001b[38;5;66;03m# Create the parser.\u001b[39;00m\n\u001b[32m--> \u001b[39m\u001b[32m620\u001b[39m parser = \u001b[43mTextFileReader\u001b[49m\u001b[43m(\u001b[49m\u001b[43mfilepath_or_buffer\u001b[49m\u001b[43m,\u001b[49m\u001b[43m \u001b[49m\u001b[43m*\u001b[49m\u001b[43m*\u001b[49m\u001b[43mkwds\u001b[49m\u001b[43m)\u001b[49m\n\u001b[32m    622\u001b[39m \u001b[38;5;28;01mif\u001b[39;00m chunksize \u001b[38;5;129;01mor\u001b[39;00m iterator:\n\u001b[32m    623\u001b[39m     \u001b[38;5;28;01mreturn\u001b[39;00m parser\n",
      "\u001b[36mFile \u001b[39m\u001b[32mc:\\Users\\luisp\\.virtualenvs\\Python-VENV-fXy5dZEI\\Lib\\site-packages\\pandas\\io\\parsers\\readers.py:1614\u001b[39m, in \u001b[36mTextFileReader.__init__\u001b[39m\u001b[34m(self, f, engine, **kwds)\u001b[39m\n\u001b[32m   1611\u001b[39m \u001b[38;5;28mself\u001b[39m.nrows = options.pop(\u001b[33m\"\u001b[39m\u001b[33mnrows\u001b[39m\u001b[33m\"\u001b[39m, \u001b[38;5;28;01mNone\u001b[39;00m)\n\u001b[32m   1613\u001b[39m \u001b[38;5;28mself\u001b[39m._check_file_or_buffer(f, engine)\n\u001b[32m-> \u001b[39m\u001b[32m1614\u001b[39m \u001b[38;5;28mself\u001b[39m.options, \u001b[38;5;28mself\u001b[39m.engine = \u001b[38;5;28;43mself\u001b[39;49m\u001b[43m.\u001b[49m\u001b[43m_clean_options\u001b[49m\u001b[43m(\u001b[49m\u001b[43moptions\u001b[49m\u001b[43m,\u001b[49m\u001b[43m \u001b[49m\u001b[43mengine\u001b[49m\u001b[43m)\u001b[49m\n\u001b[32m   1616\u001b[39m \u001b[38;5;28;01mif\u001b[39;00m \u001b[33m\"\u001b[39m\u001b[33mhas_index_names\u001b[39m\u001b[33m\"\u001b[39m \u001b[38;5;129;01min\u001b[39;00m kwds:\n\u001b[32m   1617\u001b[39m     \u001b[38;5;28mself\u001b[39m.options[\u001b[33m\"\u001b[39m\u001b[33mhas_index_names\u001b[39m\u001b[33m\"\u001b[39m] = kwds[\u001b[33m\"\u001b[39m\u001b[33mhas_index_names\u001b[39m\u001b[33m\"\u001b[39m]\n",
      "\u001b[36mFile \u001b[39m\u001b[32mc:\\Users\\luisp\\.virtualenvs\\Python-VENV-fXy5dZEI\\Lib\\site-packages\\pandas\\io\\parsers\\readers.py:1787\u001b[39m, in \u001b[36mTextFileReader._clean_options\u001b[39m\u001b[34m(self, options, engine)\u001b[39m\n\u001b[32m   1784\u001b[39m na_values = options[\u001b[33m\"\u001b[39m\u001b[33mna_values\u001b[39m\u001b[33m\"\u001b[39m]\n\u001b[32m   1785\u001b[39m skiprows = options[\u001b[33m\"\u001b[39m\u001b[33mskiprows\u001b[39m\u001b[33m\"\u001b[39m]\n\u001b[32m-> \u001b[39m\u001b[32m1787\u001b[39m \u001b[43mvalidate_header_arg\u001b[49m\u001b[43m(\u001b[49m\u001b[43moptions\u001b[49m\u001b[43m[\u001b[49m\u001b[33;43m\"\u001b[39;49m\u001b[33;43mheader\u001b[39;49m\u001b[33;43m\"\u001b[39;49m\u001b[43m]\u001b[49m\u001b[43m)\u001b[49m\n\u001b[32m   1789\u001b[39m \u001b[38;5;28;01mif\u001b[39;00m index_col \u001b[38;5;129;01mis\u001b[39;00m \u001b[38;5;28;01mTrue\u001b[39;00m:\n\u001b[32m   1790\u001b[39m     \u001b[38;5;28;01mraise\u001b[39;00m \u001b[38;5;167;01mValueError\u001b[39;00m(\u001b[33m\"\u001b[39m\u001b[33mThe value of index_col couldn\u001b[39m\u001b[33m'\u001b[39m\u001b[33mt be \u001b[39m\u001b[33m'\u001b[39m\u001b[33mTrue\u001b[39m\u001b[33m'\u001b[39m\u001b[33m\"\u001b[39m)\n",
      "\u001b[36mFile \u001b[39m\u001b[32mc:\\Users\\luisp\\.virtualenvs\\Python-VENV-fXy5dZEI\\Lib\\site-packages\\pandas\\io\\common.py:233\u001b[39m, in \u001b[36mvalidate_header_arg\u001b[39m\u001b[34m(header)\u001b[39m\n\u001b[32m    227\u001b[39m     \u001b[38;5;28;01mraise\u001b[39;00m \u001b[38;5;167;01mTypeError\u001b[39;00m(\n\u001b[32m    228\u001b[39m         \u001b[33m\"\u001b[39m\u001b[33mPassing a bool to header is invalid. Use header=None for no header or \u001b[39m\u001b[33m\"\u001b[39m\n\u001b[32m    229\u001b[39m         \u001b[33m\"\u001b[39m\u001b[33mheader=int or list-like of ints to specify \u001b[39m\u001b[33m\"\u001b[39m\n\u001b[32m    230\u001b[39m         \u001b[33m\"\u001b[39m\u001b[33mthe row(s) making up the column names\u001b[39m\u001b[33m\"\u001b[39m\n\u001b[32m    231\u001b[39m     )\n\u001b[32m    232\u001b[39m \u001b[38;5;66;03m# GH 16338\u001b[39;00m\n\u001b[32m--> \u001b[39m\u001b[32m233\u001b[39m \u001b[38;5;28;01mraise\u001b[39;00m \u001b[38;5;167;01mValueError\u001b[39;00m(\u001b[33m\"\u001b[39m\u001b[33mheader must be integer or list of integers\u001b[39m\u001b[33m\"\u001b[39m)\n",
      "\u001b[31mValueError\u001b[39m: header must be integer or list of integers"
     ]
    }
   ],
   "source": [
    "import pandas as pd\n",
    "\n",
    "df = pd.read_csv('DataSets/gpp_modified.csv')\n",
    "\n",
    "df = pd.read_csv('DataSets/gpp_modified.csv', sep='|', header='infer')\n",
    "print(df.head())\n",
    "\n",
    "print()\n",
    "\n",
    "df = pd.read_csv('DataSets/gpp_modified.csv', sep='|', header='None')\n",
    "print(df.head())"
   ]
  }
 ],
 "metadata": {
  "kernelspec": {
   "display_name": "Python-VENV-fXy5dZEI",
   "language": "python",
   "name": "python3"
  },
  "language_info": {
   "codemirror_mode": {
    "name": "ipython",
    "version": 3
   },
   "file_extension": ".py",
   "mimetype": "text/x-python",
   "name": "python",
   "nbconvert_exporter": "python",
   "pygments_lexer": "ipython3",
   "version": "3.13.2"
  }
 },
 "nbformat": 4,
 "nbformat_minor": 5
}

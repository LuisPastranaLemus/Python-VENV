{
 "cells": [
  {
   "cell_type": "markdown",
   "metadata": {},
   "source": [
    "### __Pandas__\n",
    "\n",
    "Pandas is a Python library used for working with data sets.\n",
    "\n",
    "It has functions for analyzing, cleaning, exploring, and manipulating data.\n",
    "\n",
    "The name \"Pandas\" has a reference to both \"Panel Data\", and \"Python Data Analysis\" and was created by Wes McKinney in 2008.\n",
    "\n",
    "Pandas allows us to analyze big data and make conclusions based on statistical theories.\n",
    "\n",
    "Pandas can clean messy data sets, and make them readable and relevant.\n",
    "\n",
    "Relevant data is very important in data science.\n"
   ]
  },
  {
   "cell_type": "markdown",
   "metadata": {},
   "source": [
    "If you have Python and PIP already installed on a system, then installation of Pandas is very easy.\n",
    "\n",
    "Install it using this command:\n",
    "\n",
    "C:\\Users\\Your Name>pip install pandas\n",
    "\n",
    "C:\\Users\\Your Name>pipenv install pandas\n"
   ]
  },
  {
   "cell_type": "markdown",
   "metadata": {},
   "source": [
    "##### __Import Pandas__\n",
    "\n",
    "Once Pandas is installed, import it in your applications by adding the import keyword"
   ]
  },
  {
   "cell_type": "code",
   "execution_count": 1,
   "metadata": {},
   "outputs": [
    {
     "name": "stdout",
     "output_type": "stream",
     "text": [
      "    cars  passings\n",
      "0    BMW         3\n",
      "1  Volvo         7\n",
      "2   Ford         2\n"
     ]
    }
   ],
   "source": [
    "\n",
    "import pandas\n",
    "\n",
    "mydataset = {\n",
    "  'cars': [\"BMW\", \"Volvo\", \"Ford\"],\n",
    "  'passings': [3, 7, 2]\n",
    "}\n",
    "\n",
    "myvar = pandas.DataFrame(mydataset)\n",
    "\n",
    "print(myvar)"
   ]
  },
  {
   "cell_type": "markdown",
   "metadata": {},
   "source": [
    "##### _Pandas as pd_\n",
    "\n",
    "Pandas is usually imported under the pd alias.\n",
    "\n",
    "In Python alias are an alternate name for referring to the same thing.\n",
    "\n",
    "Create an alias with the \"as\" keyword while importing"
   ]
  },
  {
   "cell_type": "code",
   "execution_count": 2,
   "metadata": {},
   "outputs": [
    {
     "name": "stdout",
     "output_type": "stream",
     "text": [
      "    cars  passings\n",
      "0    BMW         3\n",
      "1  Volvo         7\n",
      "2   Ford         2\n"
     ]
    }
   ],
   "source": [
    "import pandas as pd\n",
    "\n",
    "mydataset = {\n",
    "  'cars': [\"BMW\", \"Volvo\", \"Ford\"],\n",
    "  'passings': [3, 7, 2]\n",
    "}\n",
    "\n",
    "myvar = pd.DataFrame(mydataset)\n",
    "\n",
    "print(myvar)"
   ]
  },
  {
   "cell_type": "markdown",
   "metadata": {},
   "source": [
    "##### __Pandas Series__\n",
    "\n",
    "A Pandas Series is like a column in a table.\n",
    "\n",
    "It is a one-dimensional array holding data of any type."
   ]
  },
  {
   "cell_type": "code",
   "execution_count": 3,
   "metadata": {},
   "outputs": [
    {
     "name": "stdout",
     "output_type": "stream",
     "text": [
      "0    1\n",
      "1    7\n",
      "2    2\n",
      "dtype: int64\n"
     ]
    }
   ],
   "source": [
    "import pandas as pd\n",
    "\n",
    "a = [1, 7, 2]\n",
    "\n",
    "myvar = pd.Series(a)\n",
    "\n",
    "print(myvar)"
   ]
  },
  {
   "cell_type": "markdown",
   "metadata": {},
   "source": [
    "##### _Labels_\n",
    "\n",
    "If nothing else is specified, the values are labeled with their index number. First value has index 0, second value has index 1 etc.\n",
    "\n",
    "This label can be used to access a specified value."
   ]
  },
  {
   "cell_type": "code",
   "execution_count": 4,
   "metadata": {},
   "outputs": [
    {
     "name": "stdout",
     "output_type": "stream",
     "text": [
      "1\n"
     ]
    }
   ],
   "source": [
    "print(myvar[0])"
   ]
  },
  {
   "cell_type": "markdown",
   "metadata": {},
   "source": [
    "With the \"index\" argument, you can name your own labels."
   ]
  },
  {
   "cell_type": "code",
   "execution_count": 6,
   "metadata": {},
   "outputs": [
    {
     "name": "stdout",
     "output_type": "stream",
     "text": [
      "x    1\n",
      "y    7\n",
      "z    2\n",
      "dtype: int64\n",
      "\n",
      "7\n"
     ]
    }
   ],
   "source": [
    "import pandas as pd\n",
    "\n",
    "a = [1, 7, 2]\n",
    "\n",
    "myvar = pd.Series(a, index = [\"x\", \"y\", \"z\"])\n",
    "\n",
    "print(myvar)\n",
    "\n",
    "print()\n",
    "\n",
    "print(myvar[\"y\"])"
   ]
  },
  {
   "cell_type": "markdown",
   "metadata": {},
   "source": [
    "##### _Key/Value Objects as Series_\n",
    "\n",
    "You can also use a key/value object, like a dictionary, when creating a Series."
   ]
  },
  {
   "cell_type": "code",
   "execution_count": 7,
   "metadata": {},
   "outputs": [
    {
     "name": "stdout",
     "output_type": "stream",
     "text": [
      "day1    420\n",
      "day2    380\n",
      "day3    390\n",
      "dtype: int64\n"
     ]
    }
   ],
   "source": [
    "import pandas as pd\n",
    "\n",
    "calories = {\"day1\": 420, \"day2\": 380, \"day3\": 390}\n",
    "\n",
    "myvar = pd.Series(calories)\n",
    "\n",
    "print(myvar)"
   ]
  },
  {
   "cell_type": "markdown",
   "metadata": {},
   "source": [
    "To select only some of the items in the dictionary, use the index argument and specify only the items you want to include in the Series."
   ]
  },
  {
   "cell_type": "code",
   "execution_count": 11,
   "metadata": {},
   "outputs": [
    {
     "name": "stdout",
     "output_type": "stream",
     "text": [
      "day1    420\n",
      "day2    380\n",
      "dtype: int64 \n",
      "\n",
      "<class 'pandas.core.series.Series'>\n"
     ]
    }
   ],
   "source": [
    "import pandas as pd\n",
    "\n",
    "calories = {\"day1\": 420, \"day2\": 380, \"day3\": 390}\n",
    "\n",
    "myvar = pd.Series(calories, index = [\"day1\", \"day2\"])\n",
    "\n",
    "print(f\"{myvar} \\n\")\n",
    "print(type(myvar))"
   ]
  },
  {
   "cell_type": "markdown",
   "metadata": {},
   "source": [
    "##### __Pandas DataFrame__\n",
    "\n",
    "A Pandas DataFrame is a 2 dimensional data structure, like a 2 dimensional array, or a table with rows and columns.\n",
    "\n",
    "DataFrame(_data, columns_)"
   ]
  },
  {
   "cell_type": "markdown",
   "metadata": {},
   "source": [
    "##### _DataFrame Attributes_\n",
    "\n",
    "In the context of pandas, attributes are properties of a DataFrame object that provide information about the data it contains.\n",
    "\n",
    "Attributes in pandas allow you to access general information about a dataset without performing any data manipulation. They provide a convenient way to get an overview of the DataFrame's structure and contents."
   ]
  },
  {
   "cell_type": "markdown",
   "metadata": {},
   "source": [
    "Pandas Data types\n",
    "\n",
    "------------ Python --- Pandas\n",
    "\n",
    "string------ str------- object\n",
    "\n",
    "integer num- int------- int64\n",
    "\n",
    "float num--- float-----\tfloat64\n",
    "\n",
    "logic data-- bool------\tbool"
   ]
  },
  {
   "cell_type": "code",
   "execution_count": 31,
   "metadata": {},
   "outputs": [
    {
     "name": "stdout",
     "output_type": "stream",
     "text": [
      "c:\\Users\\luisp\\OneDrive\\Documentos\\GitHub\\Python-VENV\\Python tutorial \n",
      "\n",
      "dtypes: \n",
      "   user_id      object\n",
      "total play    float64\n",
      "Artist         object\n",
      "genre          object\n",
      "track          object\n",
      "dtype: object \n",
      "\n",
      "index: \n",
      " RangeIndex(start=0, stop=67963, step=1) \n",
      "\n",
      "columns: \n",
      " Index(['  user_id', 'total play', 'Artist', 'genre', 'track'], dtype='object') \n",
      "\n",
      "shape: \n",
      " (67963, 5) \n",
      "\n",
      "size: \n",
      " 339815 \n",
      "\n",
      "ndim: \n",
      " 2 \n",
      "\n",
      "empty: \n",
      " False \n",
      "\n",
      "values: \n",
      " [['BF6EA5AF' 92.85138808302445 'Marina Rei' 'pop' 'Musica']\n",
      " ['FB1E568E' 282.981 'Stive Morgan' 'ambient' 'Love Planet']\n",
      " ['FB1E568E' 282.981 'Stive Morgan' 'ambient' 'Love Planet']\n",
      " ...\n",
      " ['26B7058C' 292.455 'Red God' 'metal' 'Действуй!']\n",
      " ['DB0038A8' 11.529112451445515 'Less Chapell' 'pop' 'Home']\n",
      " ['FE8684F6' 0.1 nan nan nan]] \n",
      "\n",
      "axes: \n",
      " [RangeIndex(start=0, stop=67963, step=1), Index(['  user_id', 'total play', 'Artist', 'genre', 'track'], dtype='object')] \n",
      "\n",
      "T: \n",
      "                  0             1             2                    3      \\\n",
      "  user_id     BF6EA5AF      FB1E568E      FB1E568E             EF15C7BA   \n",
      "total play   92.851388       282.981       282.981                8.966   \n",
      "Artist      Marina Rei  Stive Morgan  Stive Morgan                  NaN   \n",
      "genre              pop       ambient       ambient                dance   \n",
      "track           Musica   Love Planet   Love Planet  Loving Every Minute   \n",
      "\n",
      "                             4                                       5      \\\n",
      "  user_id                 82F52E69                                4166D680   \n",
      "total play              193.776327                                   3.007   \n",
      "Artist                      Rixton  Henry Hall & His Gleneagles Hotel Band   \n",
      "genre                          pop                                    jazz   \n",
      "track       Me And My Broken Heart                                    Home   \n",
      "\n",
      "                   6           7                                     8      \\\n",
      "  user_id        F4F5677    386FE1ED                              A5E0D927   \n",
      "total play           0.1      211.88                                 3.161   \n",
      "Artist               NaN         NaN                 Andrew Paul Woodworth   \n",
      "genre       classicmetal  electronic                                   pop   \n",
      "track                NaN     Riviera  The Name of This Next Song Is Called   \n",
      "\n",
      "                   9      ...         67953       67954        67955  \\\n",
      "  user_id       E9E8A0CA  ...      A06381D8    6E8E430E     D83CBA77   \n",
      "total play        274.39  ...         2.502  139.627717        185.0   \n",
      "Artist      Pillar Point  ...   Flip Grater     Alt & J          TKN   \n",
      "genre              indie  ...          folk      trance         rock   \n",
      "track               Dove  ...  My Old Shoes     Emotion  Не отступай   \n",
      "\n",
      "               67956          67957          67958         67959      67960  \\\n",
      "  user_id   816FBC10       18510741       2E27DF51      4F29D4D5   26B7058C   \n",
      "total play       2.0          109.0     220.551837        26.127    292.455   \n",
      "Artist         89ers    Steel Pulse   Nadine Coyle  Digital Hero    Red God   \n",
      "genre          dance         reggae            pop         dance      metal   \n",
      "track       Go Go Go  Chant A Psalm  Girls On Fire     The Model  Действуй!   \n",
      "\n",
      "                   67961     67962  \n",
      "  user_id       DB0038A8  FE8684F6  \n",
      "total play     11.529112       0.1  \n",
      "Artist      Less Chapell       NaN  \n",
      "genre                pop       NaN  \n",
      "track               Home       NaN  \n",
      "\n",
      "[5 rows x 67963 columns] \n",
      "\n"
     ]
    }
   ],
   "source": [
    "import pandas as pd\n",
    "import os\n",
    "\n",
    "print(f\"{os.getcwd()} \\n\")\n",
    "\n",
    "df = pd.read_csv('DataSets/music_log.csv')\n",
    "\n",
    "print(f\"dtypes: \\n {df.dtypes} \\n\") # Returns the data types of each column.\n",
    "print(f\"index: \\n {df.index} \\n\") # Returns the row labels as an Index object.\n",
    "print(f\"columns: \\n {df.columns} \\n\")# Returns the column labels as an Index object.\n",
    "print(f\"shape: \\n {df.shape} \\n\") # Returns the dimensions of the DataFrame as a tuple (rows, columns)\n",
    "print(f\"size: \\n {df.size} \\n\") # Returns the total number of elements (rows × columns).\n",
    "print(f\"ndim: \\n {df.ndim} \\n\") # Returns the number of dimensions (always 2 for a DataFrame).\n",
    "print(f\"empty: \\n {df.empty} \\n\") # Returns True if the DataFrame is empty.\n",
    "print(f\"values: \\n {df.values} \\n\") # Returns the underlying NumPy array representation.\n",
    "print(f\"axes: \\n {df.axes} \\n\") # Returns a list of row and column index labels.\n",
    "print(f\"T: \\n {df.T} \\n\") # Returns the transpose of the DataFrame."
   ]
  },
  {
   "cell_type": "markdown",
   "metadata": {},
   "source": [
    "##### _DataFrame from a List_"
   ]
  },
  {
   "cell_type": "code",
   "execution_count": 33,
   "metadata": {},
   "outputs": [
    {
     "name": "stdout",
     "output_type": "stream",
     "text": [
      "  country      capital\n",
      "0  France        Paris\n",
      "1  Russia       Moscow\n",
      "2   China      Beijing\n",
      "3  Mexico  Mexico City\n",
      "4   Egypt        Cairo\n"
     ]
    }
   ],
   "source": [
    "import pandas as pd\n",
    "\n",
    "atlas = [\n",
    "      ['France', 'Paris'],  \n",
    "        ['Russia', 'Moscow'],  \n",
    "        ['China', 'Beijing'],  \n",
    "        ['Mexico', 'Mexico City'],  \n",
    "        ['Egypt', 'Cairo'],\n",
    "]\n",
    "geography = ['country', 'capital']\n",
    "\n",
    "world_map = pd.DataFrame(data=atlas , columns=geography)\n",
    "\n",
    "print(world_map)"
   ]
  },
  {
   "cell_type": "markdown",
   "metadata": {},
   "source": [
    "##### _DataFrame from a Dictionary_"
   ]
  },
  {
   "cell_type": "code",
   "execution_count": 35,
   "metadata": {},
   "outputs": [
    {
     "name": "stdout",
     "output_type": "stream",
     "text": [
      "   calories  duration     type\n",
      "0       420        50    carbs\n",
      "1       380        40  glucose\n",
      "2       390        45    sugar\n"
     ]
    }
   ],
   "source": [
    "import pandas as pd\n",
    "\n",
    "data = {\n",
    "  \"calories\": [420, 380, 390],\n",
    "  \"duration\": [50, 40, 45],\n",
    "  \"type\": [\"carbs\", \"glucose\", \"sugar\"]\n",
    "}\n",
    "\n",
    "df = pd.DataFrame(data)\n",
    "\n",
    "print(df) "
   ]
  },
  {
   "cell_type": "markdown",
   "metadata": {},
   "source": [
    "##### _DataFrame from a File_"
   ]
  },
  {
   "cell_type": "markdown",
   "metadata": {},
   "source": [
    "When working with files in Pandas (e.g., using pd.read_csv()), you can specify the file path as either an absolute path or a relative path. Here's the difference between the two:\n",
    "\n",
    "_Absolute Path_\n",
    "\n",
    "df = pd.read_csv(r'C:\\Users\\luisp\\OneDrive\\Documentos\\GitHub\\Python-VENV\\DataSets\\music_log.csv')\n",
    "\n",
    "An absolute path specifies the complete path to a file or directory, starting from the root of the file system. It is independent of the current working directory of your script.\n",
    "\n",
    "Key Points:\n",
    "\n",
    "Starts from the root directory (e.g.,  on Windows or / on Linux/Mac).\n",
    "\n",
    "Always points to the same file, regardless of where the script is executed.\n",
    "\n",
    "Useful when the file location is fixed or when working with files outside the script's directory.\n",
    "\n",
    "\n",
    "_Relative Path_\n",
    "\n",
    "df = pd.read_csv('DataSets/music_log.csv')\n",
    "\n",
    "A relative path specifies the location of a file relative to the current working directory (CWD) of your script. The CWD is the directory from which your script is executed.\n",
    "\n",
    "Key Points:\n",
    "\n",
    "Starts from the current working directory.\n",
    "\n",
    "Shorter and more portable than absolute paths.\n",
    "\n",
    "Depends on the current working directory. If the script is executed from a different directory, the relative path may not work.\n"
   ]
  },
  {
   "cell_type": "code",
   "execution_count": null,
   "metadata": {},
   "outputs": [
    {
     "name": "stdout",
     "output_type": "stream",
     "text": [
      "   age  mouse1  mouse2\n",
      "0    1      24      18\n",
      "1    2      56      36\n",
      "2    3      64      50\n",
      "3    4      82      68\n",
      "4    5      92      72\n",
      "5    6      94      72\n",
      "6    7      88      74\n",
      "\n",
      "60\n"
     ]
    }
   ],
   "source": [
    "import pandas as pd\n",
    "\n",
    "df = pd.read_csv('DataSets/mouse_growth_rate.csv') # Read .csv or .xlsx or xls or .xlsm or xlsb or xltx file.\n",
    "\n",
    "print(df) \n",
    "\n",
    "print()\n",
    "\n",
    "print(pd.options.display.max_rows) # You can check your system's maximum rows with the pd.options.display.max_rows statement. Default is 60."
   ]
  },
  {
   "cell_type": "markdown",
   "metadata": {},
   "source": [
    "##### _DataFrame Methods()_"
   ]
  },
  {
   "cell_type": "markdown",
   "metadata": {},
   "source": [
    "_.info()_\n",
    "\n",
    "The info() method prints information about the DataFrame.\n",
    "\n",
    "The information contains the number of columns, column labels, column data types, memory usage, range index, and the number of cells in each column (non-null values)."
   ]
  },
  {
   "cell_type": "code",
   "execution_count": 45,
   "metadata": {},
   "outputs": [
    {
     "name": "stdout",
     "output_type": "stream",
     "text": [
      "<class 'pandas.core.frame.DataFrame'>\n",
      "RangeIndex: 67963 entries, 0 to 67962\n",
      "Data columns (total 5 columns):\n",
      " #   Column      Non-Null Count  Dtype  \n",
      "---  ------      --------------  -----  \n",
      " 0     user_id   67963 non-null  object \n",
      " 1   total play  67399 non-null  float64\n",
      " 2   Artist      59646 non-null  object \n",
      " 3   genre       64661 non-null  object \n",
      " 4   track       64804 non-null  object \n",
      "dtypes: float64(1), object(4)\n",
      "memory usage: 2.6+ MB\n"
     ]
    }
   ],
   "source": [
    "import pandas as pd\n",
    "\n",
    "df = pd.read_csv('DataSets/music_log.csv')\n",
    "\n",
    "df.info() # Displays a summary of the DataFrame, including data types and memory usage."
   ]
  },
  {
   "cell_type": "markdown",
   "metadata": {},
   "source": [
    "_.head()_\n",
    "\n",
    "The head() method returns a specified number of rows, string from the top.\n",
    "\n",
    "The head() method returns the first 5 rows if a number is not specified."
   ]
  },
  {
   "cell_type": "code",
   "execution_count": 46,
   "metadata": {},
   "outputs": [
    {
     "data": {
      "text/html": [
       "<div>\n",
       "<style scoped>\n",
       "    .dataframe tbody tr th:only-of-type {\n",
       "        vertical-align: middle;\n",
       "    }\n",
       "\n",
       "    .dataframe tbody tr th {\n",
       "        vertical-align: top;\n",
       "    }\n",
       "\n",
       "    .dataframe thead th {\n",
       "        text-align: right;\n",
       "    }\n",
       "</style>\n",
       "<table border=\"1\" class=\"dataframe\">\n",
       "  <thead>\n",
       "    <tr style=\"text-align: right;\">\n",
       "      <th></th>\n",
       "      <th>user_id</th>\n",
       "      <th>total play</th>\n",
       "      <th>Artist</th>\n",
       "      <th>genre</th>\n",
       "      <th>track</th>\n",
       "    </tr>\n",
       "  </thead>\n",
       "  <tbody>\n",
       "    <tr>\n",
       "      <th>0</th>\n",
       "      <td>BF6EA5AF</td>\n",
       "      <td>92.851388</td>\n",
       "      <td>Marina Rei</td>\n",
       "      <td>pop</td>\n",
       "      <td>Musica</td>\n",
       "    </tr>\n",
       "    <tr>\n",
       "      <th>1</th>\n",
       "      <td>FB1E568E</td>\n",
       "      <td>282.981000</td>\n",
       "      <td>Stive Morgan</td>\n",
       "      <td>ambient</td>\n",
       "      <td>Love Planet</td>\n",
       "    </tr>\n",
       "    <tr>\n",
       "      <th>2</th>\n",
       "      <td>FB1E568E</td>\n",
       "      <td>282.981000</td>\n",
       "      <td>Stive Morgan</td>\n",
       "      <td>ambient</td>\n",
       "      <td>Love Planet</td>\n",
       "    </tr>\n",
       "    <tr>\n",
       "      <th>3</th>\n",
       "      <td>EF15C7BA</td>\n",
       "      <td>8.966000</td>\n",
       "      <td>NaN</td>\n",
       "      <td>dance</td>\n",
       "      <td>Loving Every Minute</td>\n",
       "    </tr>\n",
       "    <tr>\n",
       "      <th>4</th>\n",
       "      <td>82F52E69</td>\n",
       "      <td>193.776327</td>\n",
       "      <td>Rixton</td>\n",
       "      <td>pop</td>\n",
       "      <td>Me And My Broken Heart</td>\n",
       "    </tr>\n",
       "  </tbody>\n",
       "</table>\n",
       "</div>"
      ],
      "text/plain": [
       "    user_id  total play        Artist    genre                   track\n",
       "0  BF6EA5AF   92.851388    Marina Rei      pop                  Musica\n",
       "1  FB1E568E  282.981000  Stive Morgan  ambient             Love Planet\n",
       "2  FB1E568E  282.981000  Stive Morgan  ambient             Love Planet\n",
       "3  EF15C7BA    8.966000           NaN    dance     Loving Every Minute\n",
       "4  82F52E69  193.776327        Rixton      pop  Me And My Broken Heart"
      ]
     },
     "execution_count": 46,
     "metadata": {},
     "output_type": "execute_result"
    }
   ],
   "source": [
    "import pandas as pd\n",
    "\n",
    "df = pd.read_csv('DataSets/music_log.csv')\n",
    "\n",
    "df.head() # Returns the first n rows (default is 5)."
   ]
  },
  {
   "cell_type": "markdown",
   "metadata": {},
   "source": [
    "_.tail()_\n",
    "\n",
    "The tail() method returns a specified number of last rows.\n",
    "\n",
    "The tail() method returns the last 5 rows if a number is not specified."
   ]
  },
  {
   "cell_type": "code",
   "execution_count": 47,
   "metadata": {},
   "outputs": [
    {
     "data": {
      "text/html": [
       "<div>\n",
       "<style scoped>\n",
       "    .dataframe tbody tr th:only-of-type {\n",
       "        vertical-align: middle;\n",
       "    }\n",
       "\n",
       "    .dataframe tbody tr th {\n",
       "        vertical-align: top;\n",
       "    }\n",
       "\n",
       "    .dataframe thead th {\n",
       "        text-align: right;\n",
       "    }\n",
       "</style>\n",
       "<table border=\"1\" class=\"dataframe\">\n",
       "  <thead>\n",
       "    <tr style=\"text-align: right;\">\n",
       "      <th></th>\n",
       "      <th>user_id</th>\n",
       "      <th>total play</th>\n",
       "      <th>Artist</th>\n",
       "      <th>genre</th>\n",
       "      <th>track</th>\n",
       "    </tr>\n",
       "  </thead>\n",
       "  <tbody>\n",
       "    <tr>\n",
       "      <th>67953</th>\n",
       "      <td>A06381D8</td>\n",
       "      <td>2.502000</td>\n",
       "      <td>Flip Grater</td>\n",
       "      <td>folk</td>\n",
       "      <td>My Old Shoes</td>\n",
       "    </tr>\n",
       "    <tr>\n",
       "      <th>67954</th>\n",
       "      <td>6E8E430E</td>\n",
       "      <td>139.627717</td>\n",
       "      <td>Alt &amp; J</td>\n",
       "      <td>trance</td>\n",
       "      <td>Emotion</td>\n",
       "    </tr>\n",
       "    <tr>\n",
       "      <th>67955</th>\n",
       "      <td>D83CBA77</td>\n",
       "      <td>185.000000</td>\n",
       "      <td>TKN</td>\n",
       "      <td>rock</td>\n",
       "      <td>Не отступай</td>\n",
       "    </tr>\n",
       "    <tr>\n",
       "      <th>67956</th>\n",
       "      <td>816FBC10</td>\n",
       "      <td>2.000000</td>\n",
       "      <td>89ers</td>\n",
       "      <td>dance</td>\n",
       "      <td>Go Go Go</td>\n",
       "    </tr>\n",
       "    <tr>\n",
       "      <th>67957</th>\n",
       "      <td>18510741</td>\n",
       "      <td>109.000000</td>\n",
       "      <td>Steel Pulse</td>\n",
       "      <td>reggae</td>\n",
       "      <td>Chant A Psalm</td>\n",
       "    </tr>\n",
       "    <tr>\n",
       "      <th>67958</th>\n",
       "      <td>2E27DF51</td>\n",
       "      <td>220.551837</td>\n",
       "      <td>Nadine Coyle</td>\n",
       "      <td>pop</td>\n",
       "      <td>Girls On Fire</td>\n",
       "    </tr>\n",
       "    <tr>\n",
       "      <th>67959</th>\n",
       "      <td>4F29D4D5</td>\n",
       "      <td>26.127000</td>\n",
       "      <td>Digital Hero</td>\n",
       "      <td>dance</td>\n",
       "      <td>The Model</td>\n",
       "    </tr>\n",
       "    <tr>\n",
       "      <th>67960</th>\n",
       "      <td>26B7058C</td>\n",
       "      <td>292.455000</td>\n",
       "      <td>Red God</td>\n",
       "      <td>metal</td>\n",
       "      <td>Действуй!</td>\n",
       "    </tr>\n",
       "    <tr>\n",
       "      <th>67961</th>\n",
       "      <td>DB0038A8</td>\n",
       "      <td>11.529112</td>\n",
       "      <td>Less Chapell</td>\n",
       "      <td>pop</td>\n",
       "      <td>Home</td>\n",
       "    </tr>\n",
       "    <tr>\n",
       "      <th>67962</th>\n",
       "      <td>FE8684F6</td>\n",
       "      <td>0.100000</td>\n",
       "      <td>NaN</td>\n",
       "      <td>NaN</td>\n",
       "      <td>NaN</td>\n",
       "    </tr>\n",
       "  </tbody>\n",
       "</table>\n",
       "</div>"
      ],
      "text/plain": [
       "        user_id  total play        Artist   genre          track\n",
       "67953  A06381D8    2.502000   Flip Grater    folk   My Old Shoes\n",
       "67954  6E8E430E  139.627717       Alt & J  trance        Emotion\n",
       "67955  D83CBA77  185.000000           TKN    rock    Не отступай\n",
       "67956  816FBC10    2.000000         89ers   dance       Go Go Go\n",
       "67957  18510741  109.000000   Steel Pulse  reggae  Chant A Psalm\n",
       "67958  2E27DF51  220.551837  Nadine Coyle     pop  Girls On Fire\n",
       "67959  4F29D4D5   26.127000  Digital Hero   dance      The Model\n",
       "67960  26B7058C  292.455000       Red God   metal      Действуй!\n",
       "67961  DB0038A8   11.529112  Less Chapell     pop           Home\n",
       "67962  FE8684F6    0.100000           NaN     NaN            NaN"
      ]
     },
     "execution_count": 47,
     "metadata": {},
     "output_type": "execute_result"
    }
   ],
   "source": [
    "import pandas as pd\n",
    "\n",
    "df = pd.read_csv('DataSets/music_log.csv')\n",
    "\n",
    "df.tail(10) #  Returns the last n rows."
   ]
  },
  {
   "cell_type": "code",
   "execution_count": 48,
   "metadata": {},
   "outputs": [
    {
     "data": {
      "text/plain": [
       "Index             132\n",
       "  user_id     3937800\n",
       "total play     543704\n",
       "Artist        4103453\n",
       "genre         3656054\n",
       "track         4503010\n",
       "dtype: int64"
      ]
     },
     "execution_count": 48,
     "metadata": {},
     "output_type": "execute_result"
    }
   ],
   "source": [
    "import pandas as pd\n",
    "\n",
    "df = pd.read_csv('DataSets/music_log.csv')\n",
    "\n",
    "# df.memory_usage() # Returns the memory usage of each column in bytes.\n",
    "df.memory_usage(index=True, deep=True) # Returns the memory usage of each column in bytes, including the index."
   ]
  },
  {
   "cell_type": "markdown",
   "metadata": {},
   "source": [
    "_.describe()_\n",
    "\n",
    "The describe() method returns description of the data in the DataFrame.\n",
    "\n",
    "If the DataFrame contains numerical data, the description contains these information for each column:\n",
    "\n",
    "count - The number of not-empty values.\n",
    "\n",
    "mean - The average (mean) value.\n",
    "\n",
    "std - The standard deviation.\n",
    "\n",
    "min - the minimum value.\n",
    "\n",
    "25% - The 25% percentile*.\n",
    "\n",
    "50% - The 50% percentile*.\n",
    "\n",
    "75% - The 75% percentile*.\n",
    "\n",
    "max - the maximum value.\n",
    "\n",
    "*Percentile meaning: how many of the values are less than the given percentile. Read more about percentiles in our Machine Learning Percentile chapter."
   ]
  },
  {
   "cell_type": "code",
   "execution_count": 49,
   "metadata": {},
   "outputs": [
    {
     "data": {
      "text/html": [
       "<div>\n",
       "<style scoped>\n",
       "    .dataframe tbody tr th:only-of-type {\n",
       "        vertical-align: middle;\n",
       "    }\n",
       "\n",
       "    .dataframe tbody tr th {\n",
       "        vertical-align: top;\n",
       "    }\n",
       "\n",
       "    .dataframe thead th {\n",
       "        text-align: right;\n",
       "    }\n",
       "</style>\n",
       "<table border=\"1\" class=\"dataframe\">\n",
       "  <thead>\n",
       "    <tr style=\"text-align: right;\">\n",
       "      <th></th>\n",
       "      <th>total play</th>\n",
       "    </tr>\n",
       "  </thead>\n",
       "  <tbody>\n",
       "    <tr>\n",
       "      <th>count</th>\n",
       "      <td>67399.000000</td>\n",
       "    </tr>\n",
       "    <tr>\n",
       "      <th>mean</th>\n",
       "      <td>98.899155</td>\n",
       "    </tr>\n",
       "    <tr>\n",
       "      <th>std</th>\n",
       "      <td>144.460713</td>\n",
       "    </tr>\n",
       "    <tr>\n",
       "      <th>min</th>\n",
       "      <td>0.000000</td>\n",
       "    </tr>\n",
       "    <tr>\n",
       "      <th>25%</th>\n",
       "      <td>2.019000</td>\n",
       "    </tr>\n",
       "    <tr>\n",
       "      <th>50%</th>\n",
       "      <td>20.135056</td>\n",
       "    </tr>\n",
       "    <tr>\n",
       "      <th>75%</th>\n",
       "      <td>194.335000</td>\n",
       "    </tr>\n",
       "    <tr>\n",
       "      <th>max</th>\n",
       "      <td>8638.736000</td>\n",
       "    </tr>\n",
       "  </tbody>\n",
       "</table>\n",
       "</div>"
      ],
      "text/plain": [
       "         total play\n",
       "count  67399.000000\n",
       "mean      98.899155\n",
       "std      144.460713\n",
       "min        0.000000\n",
       "25%        2.019000\n",
       "50%       20.135056\n",
       "75%      194.335000\n",
       "max     8638.736000"
      ]
     },
     "execution_count": 49,
     "metadata": {},
     "output_type": "execute_result"
    }
   ],
   "source": [
    "import pandas as pd\n",
    "\n",
    "df = pd.read_csv('DataSets/music_log.csv')\n",
    "\n",
    "df.describe() # Returns a summary of statistics for numerical columns. "
   ]
  },
  {
   "cell_type": "markdown",
   "metadata": {},
   "source": [
    "_.add()_\n",
    "\n",
    "The add() method adds each value in the DataFrame with a specified value.\n",
    "\n",
    "The specified value must be an object that can be added to the values of the DataFrame. It can be a constant number like the one in the example, or it can be a list-like object like a list [15, 20] or a tuple {\"points\": 380, \"total\": 22}, or a  Pandas Series or another DataFrame, that fits with the original DataFrame.\n",
    "\n",
    "_dataframe.add(other, axis, level, fill_value)_\n",
    "\n",
    "Parameter\tDescription\n",
    "\n",
    "_other_\tRequired. A number, list of numbers, or another object with a data structure that fits with the original DataFrame.\n",
    "\n",
    "_axis_\tOptional, A definition that decides whether to compare by index or columns.\n",
    "\n",
    "_0_ or 'index' means compare by index.\n",
    "\n",
    "_1_ or 'columns' means compare by columns\n",
    "\n",
    "_level_\tOptional. A number or label that indicates where to compare.\n",
    "\n",
    "_fill_value_\tOptional. A number, or None. Specifies what to do with NaN values before the adding.\n"
   ]
  },
  {
   "cell_type": "code",
   "execution_count": 7,
   "metadata": {},
   "outputs": [
    {
     "name": "stdout",
     "output_type": "stream",
     "text": [
      "   points  total\n",
      "0     115    365\n",
      "1     135    355\n",
      "2     129    417\n"
     ]
    }
   ],
   "source": [
    "import pandas as pd\n",
    "\n",
    "data = {\n",
    "  \"points\": [100, 120, 114],\n",
    "  \"total\": [350, 340, 402]\n",
    "}\n",
    "\n",
    "df = pd.DataFrame(data)\n",
    "\n",
    "print(df.add(15))"
   ]
  },
  {
   "cell_type": "markdown",
   "metadata": {},
   "source": [
    "_.aggregate()_\n",
    "\n",
    "The aggregate() method allows you to apply a function or a list of function names to be executed along one of the axis of the DataFrame, default 0, which is the index (row) axis.\n",
    "\n",
    "_dataframe.aggregate(func, axis, args, kwargs)_\n",
    "\n",
    "_func_\t \tRequired. A function, function name, or a list of function names to apply to the DataFrame.\n",
    "\n",
    "_axi_s\t0, 1, 'index', 'columns' Optional, Which axis to apply the function to. default 0.\t\n",
    "\n",
    "args\t \tOptional, arguments to send into the function\n",
    "\n",
    "kwargs\t \tOptional, keyword arguments to send into the function"
   ]
  },
  {
   "cell_type": "code",
   "execution_count": 8,
   "metadata": {},
   "outputs": [
    {
     "name": "stdout",
     "output_type": "stream",
     "text": [
      "       x     y\n",
      "sum  120  1454\n"
     ]
    }
   ],
   "source": [
    "import pandas as pd\n",
    "\n",
    "data = {\n",
    "  \"x\": [50, 40, 30],\n",
    "  \"y\": [300, 1112, 42]\n",
    "}\n",
    "\n",
    "df = pd.DataFrame(data)\n",
    "\n",
    "x = df.aggregate([\"sum\"])\n",
    "\n",
    "print(x)"
   ]
  },
  {
   "cell_type": "markdown",
   "metadata": {},
   "source": [
    "_.concat()_\n",
    "\n",
    "The concat() method in Pandas is a powerful function used to concatenate (combine) multiple DataFrames or Series along a particular axis. It has several arguments that allow you to customize how the concatenation is performed.\n",
    "\n",
    "_dataframe.concat(objs, axis=0, join='outer', ignore_index=False, keys=None, levels=None, names=None, verify_integrity=False, sort=False, copy=True)_\n",
    "\n",
    "_objs_ A list or dictionary of DataFrames or Series to concatenate. Required\n",
    "\n",
    "_axis_ Specifies whether to concatenate along rows (axis=0) or columns (axis=1). axis=0: Combines rows (default behavior). axis=1: Combines columns side by side. Default(0)\n",
    "\n",
    "_ingnore_index_ If True, resets the index in the resulting DataFrame to a continuous range starting from 0. If False, retains the original indices from the input DataFrames. Default(False)\n",
    "\n",
    "_join_ Specifies how to handle columns that are not present in all DataFrames: 'outer': Includes all columns (union of columns). 'inner': Includes only common columns (intersection of columns). Default(outer)\n",
    "\n",
    "_keys_ Adds a hierarchical index (MultiIndex) to the resulting DataFrame, with labels for each DataFrame being concatenated. Default(none)\n",
    "\n",
    "_levels_ Used with keys to specify custom levels for the hierarchical index. Default(none)\n",
    "\n",
    "_names_ Assigns names to the levels of the hierarchical index created by keys. Default(none)\n",
    "\n",
    "_verify_integrity_ If True, checks for duplicate indices in the resulting DataFrame and raises an error if duplicates are found. Default(None)\n",
    "\n",
    "_sort_ If True, sorts the columns in the resulting DataFrame. Default(False)\n",
    "\n",
    "_copy_ If True, creates a copy of the data. If False, avoids unnecessary data copying (may improve performance). Default(True)"
   ]
  },
  {
   "cell_type": "code",
   "execution_count": 12,
   "metadata": {},
   "outputs": [
    {
     "name": "stdout",
     "output_type": "stream",
     "text": [
      "   age  qualified\n",
      "0   16       True\n",
      "1   14       True\n",
      "2   10       True\n",
      "3   55       True\n",
      "4   40      False\n"
     ]
    }
   ],
   "source": [
    "import pandas as pd\n",
    "\n",
    "data1 = {\n",
    "  \"age\": [16, 14, 10],\n",
    "  \"qualified\": [True, True, True]\n",
    "}\n",
    "df1 = pd.DataFrame(data1)\n",
    "\n",
    "data2 = {\n",
    "  \"age\": [55, 40],\n",
    "  \"qualified\": [True, False]\n",
    "}\n",
    "df2 = pd.DataFrame(data2)\n",
    "\n",
    "newdf = pd.concat([df1, df2], ignore_index=True)\n",
    "\n",
    "print(newdf)"
   ]
  },
  {
   "cell_type": "markdown",
   "metadata": {},
   "source": [
    "_.count()_\n",
    "\n",
    "The count() method counts the number of not empty values for each row, or column if you specify the axis parameter as axis='columns', and returns a Series object with the result for each row (or column).\n",
    "\n",
    "_dataframe.count(axis, level, numeric_only)_\n",
    "\n",
    "_axis_\t0 1 'index' 'columns'\tOptional, Which axis to check, default 0.\n",
    "\n",
    "_level_\tNumber level name\tOptional, Specifies which level ( in a hierarchical multi index) to count along\n",
    "\n",
    "_numeric_only_\t'True' 'False'\tOptional, Default False, set to true if the count method should only count numeric values"
   ]
  },
  {
   "cell_type": "code",
   "execution_count": 13,
   "metadata": {},
   "outputs": [
    {
     "name": "stdout",
     "output_type": "stream",
     "text": [
      "Duration    4\n",
      "Pulse       6\n",
      "dtype: int64\n"
     ]
    }
   ],
   "source": [
    "import pandas as pd\n",
    "\n",
    "data = {\n",
    "  \"Duration\": [50, 40, None, None, 90, 20],\n",
    "  \"Pulse\": [109, 140, 110, 125, 138, 170]\n",
    "}\n",
    "\n",
    "df = pd.DataFrame(data)\n",
    "\n",
    "print(df.count())"
   ]
  },
  {
   "cell_type": "markdown",
   "metadata": {},
   "source": [
    "_.drop_duplicates()_\n",
    "\n",
    "The drop_duplicates() method removes duplicate rows.\n",
    "\n",
    "Use the subset parameter if only some specified columns should be considered when looking for duplicates.\n",
    "\n",
    "_dataframe.drop_duplicates(subset, keep, inplace, ignore_index)_\n",
    "\n",
    "_subset_\tcolumn label(s)\tOptional. A String, or a list, containing the columns to use when looking for duplicates. If not specified, all columns are being used.\n",
    "\n",
    "_keep_\t'first' 'last' False\tOptional, default 'first'. Specifies which duplicate to keep. If False, drop ALL duplicates\n",
    "\n",
    "_inplace_\tTrue False\tOptional, default False. If True: the removing is done on the current DataFrame. If False: returns a copy where the removing is done.\n",
    "\n",
    "_ignore_index_\tTrue False\tOptional, default False. Specifies whether to label the 0, 1, 2 etc., or not"
   ]
  },
  {
   "cell_type": "code",
   "execution_count": 16,
   "metadata": {},
   "outputs": [
    {
     "name": "stdout",
     "output_type": "stream",
     "text": [
      "    name  age  qualified\n",
      "0  Sally   50       True\n",
      "1   Mary   40      False\n",
      "2   John   30      False\n"
     ]
    }
   ],
   "source": [
    "import pandas as pd\n",
    "\n",
    "data = {\n",
    "  \"name\": [\"Sally\", \"Mary\", \"John\", \"Mary\"],\n",
    "  \"age\": [50, 40, 30, 40],\n",
    "  \"qualified\": [True, False, False, False]\n",
    "}\n",
    "\n",
    "df = pd.DataFrame(data)\n",
    "\n",
    "newdf = df.drop_duplicates()\n",
    "\n",
    "print(newdf)"
   ]
  },
  {
   "cell_type": "markdown",
   "metadata": {},
   "source": [
    "_.dropna()_\n",
    "\n",
    "The dropna() method removes the rows that contains NULL values.\n",
    "\n",
    "The dropna() method returns a new DataFrame object unless the inplace parameter is set to True, in that case the dropna() method does the removing in the original DataFrame instead.\n",
    "\n",
    "_dataframe.dropna(axis, how, thresh, subset, inplace)_\n",
    "\n",
    "_axis_\t0 1 'index' 'columns'\tOptional, default 0. 0 and 'index'removes ROWS that contains NULL values. 1 and 'columns' removes COLUMNS that contains NULL values\n",
    "_how_\t'all' 'any'\tOptional, default 'any'. Specifies whether to remove the row or column when ALL values are NULL, or if ANY value is NULL.\n",
    "_thresh_\tNumber\tOptional, Specifies the number of NOT NULL values required to keep the row.\n",
    "_subset_\tList\tOptional, specifies where to look for NULL values\n",
    "_inplace_\tTrue False\tOptional, default False. If True: the removing is done on the current DataFrame. If False: returns a copy where the removing is done."
   ]
  },
  {
   "cell_type": "code",
   "execution_count": 19,
   "metadata": {},
   "outputs": [
    {
     "name": "stdout",
     "output_type": "stream",
     "text": [
      "          date group  visitors\n",
      "0   01/04/2019     A     455.0\n",
      "2   03/04/2019     A    1313.0\n",
      "3   04/04/2019     A     555.0\n",
      "4   05/04/2019     A     564.0\n",
      "5   06/04/2019     A     467.0\n",
      "6   07/04/2019     A     513.0\n",
      "7   08/04/2019     A     559.0\n",
      "8   09/04/2019     A     575.0\n",
      "9   10/04/2019     A    1322.0\n",
      "11  12/04/2019     A     804.0\n",
      "12  13/04/2019     A     626.0\n",
      "13  14/04/2019     A     679.0\n",
      "14  15/04/2019     A     557.0\n",
      "15  16/04/2019     A     365.0\n",
      "16  17/04/2019     A     509.0\n",
      "17  18/04/2019     A     788.0\n",
      "18  19/04/2019     A     724.0\n",
      "20  21/04/2019     A     733.0\n",
      "21  22/04/2019     A     707.0\n",
      "22  23/04/2019     A     882.0\n",
      "23  01/04/2019     B     464.0\n",
      "24  02/04/2019     B     513.0\n",
      "25  03/04/2019     B    1313.0\n",
      "26  04/04/2019     B     578.0\n",
      "28  06/04/2019     B     470.0\n",
      "29  07/04/2019     B     505.0\n",
      "30  08/04/2019     B     573.0\n",
      "31  09/04/2019     B     564.0\n",
      "32  10/04/2019     B    1334.0\n",
      "33  11/04/2019     B     570.0\n",
      "34  12/04/2019     B     819.0\n",
      "36  14/04/2019     B     675.0\n",
      "37  15/04/2019     B     559.0\n",
      "38  16/04/2019     B     364.0\n",
      "39  17/04/2019     B     522.0\n",
      "40  18/04/2019     B     758.0\n",
      "41  19/04/2019     B     715.0\n",
      "42  20/04/2019     B     666.0\n",
      "43  21/04/2019     B     725.0\n",
      "45  23/04/2019     B     857.0\n"
     ]
    }
   ],
   "source": [
    "import pandas as pd\n",
    "\n",
    "df = pd.read_csv('DataSets/orders_for_anomalies_detection_visitors.csv')\n",
    "\n",
    "newdf = df.dropna()\n",
    "print(newdf)"
   ]
  },
  {
   "cell_type": "markdown",
   "metadata": {},
   "source": [
    "##### __DataFrame Indexing__\n",
    "\n",
    "Pandas use the loc attribute to return one or more specified row(s)\n",
    "\n",
    "_loc[]: df.loc[row, column]_"
   ]
  },
  {
   "cell_type": "code",
   "execution_count": 1,
   "metadata": {},
   "outputs": [
    {
     "name": "stdout",
     "output_type": "stream",
     "text": [
      "1 - First Row of Dataframe: \n",
      "  user_id       BF6EA5AF\n",
      "total play     92.851388\n",
      "Artist        Marina Rei\n",
      "genre                pop\n",
      "track             Musica\n",
      "Name: 0, dtype: object\n",
      "\n",
      "2 - Rows from the idex given to the last one: \n",
      "        user_id  total play        Artist  genre      track\n",
      "67960  26B7058C  292.455000       Red God  metal  Действуй!\n",
      "67961  DB0038A8   11.529112  Less Chapell    pop       Home\n",
      "67962  FE8684F6    0.100000           NaN    NaN        NaN\n",
      "\n",
      "3 - Cell or Value from (row, column): \n",
      "Musica\n",
      "\n",
      "4 - First and Fifth rows within a list: \n",
      "    user_id  total play                                  Artist genre   track\n",
      "0  BF6EA5AF   92.851388                              Marina Rei   pop  Musica\n",
      "5  4166D680    3.007000  Henry Hall & His Gleneagles Hotel Band  jazz    Home\n",
      "\n",
      "5 - Column of DataFrame: \n",
      "0                        Musica\n",
      "1                   Love Planet\n",
      "2                   Love Planet\n",
      "3           Loving Every Minute\n",
      "4        Me And My Broken Heart\n",
      "                  ...          \n",
      "67958             Girls On Fire\n",
      "67959                 The Model\n",
      "67960                 Действуй!\n",
      "67961                      Home\n",
      "67962                       NaN\n",
      "Name: track, Length: 67963, dtype: object\n",
      "\n",
      "Column of DataFrame: \n",
      "0                        Musica\n",
      "1                   Love Planet\n",
      "2                   Love Planet\n",
      "3           Loving Every Minute\n",
      "4        Me And My Broken Heart\n",
      "                  ...          \n",
      "67958             Girls On Fire\n",
      "67959                 The Model\n",
      "67960                 Действуй!\n",
      "67961                      Home\n",
      "67962                       NaN\n",
      "Name: track, Length: 67963, dtype: object\n",
      "\n",
      "6 - Multiple columns of DataFrame: \n",
      "                        track        Artist\n",
      "0                      Musica    Marina Rei\n",
      "1                 Love Planet  Stive Morgan\n",
      "2                 Love Planet  Stive Morgan\n",
      "3         Loving Every Minute           NaN\n",
      "4      Me And My Broken Heart        Rixton\n",
      "...                       ...           ...\n",
      "67958           Girls On Fire  Nadine Coyle\n",
      "67959               The Model  Digital Hero\n",
      "67960               Действуй!       Red God\n",
      "67961                    Home  Less Chapell\n",
      "67962                     NaN           NaN\n",
      "\n",
      "[67963 rows x 2 columns]\n",
      "\n",
      "Multiple columns of DataFrame: \n",
      "                        track        Artist\n",
      "0                      Musica    Marina Rei\n",
      "1                 Love Planet  Stive Morgan\n",
      "2                 Love Planet  Stive Morgan\n",
      "3         Loving Every Minute           NaN\n",
      "4      Me And My Broken Heart        Rixton\n",
      "...                       ...           ...\n",
      "67958           Girls On Fire  Nadine Coyle\n",
      "67959               The Model  Digital Hero\n",
      "67960               Действуй!       Red God\n",
      "67961                    Home  Less Chapell\n",
      "67962                     NaN           NaN\n",
      "\n",
      "[67963 rows x 2 columns]\n",
      "\n",
      "\n",
      "7 - Multiple consecutive columns of DataFrame: \n",
      "       total play        Artist    genre                   track\n",
      "0       92.851388    Marina Rei      pop                  Musica\n",
      "1      282.981000  Stive Morgan  ambient             Love Planet\n",
      "2      282.981000  Stive Morgan  ambient             Love Planet\n",
      "3        8.966000           NaN    dance     Loving Every Minute\n",
      "4      193.776327        Rixton      pop  Me And My Broken Heart\n",
      "...           ...           ...      ...                     ...\n",
      "67958  220.551837  Nadine Coyle      pop           Girls On Fire\n",
      "67959   26.127000  Digital Hero    dance               The Model\n",
      "67960  292.455000       Red God    metal               Действуй!\n",
      "67961   11.529112  Less Chapell      pop                    Home\n",
      "67962    0.100000           NaN      NaN                     NaN\n",
      "\n",
      "[67963 rows x 4 columns]\n",
      "\n"
     ]
    }
   ],
   "source": [
    "import pandas as pd\n",
    "\n",
    "df = pd.read_csv('DataSets/music_log.csv')\n",
    "\n",
    "# Returns the first row of the DataFrame.\n",
    "print(f\"1 - First Row of Dataframe: \\n{df.loc[0]}\") \n",
    "\n",
    "print()\n",
    "\n",
    "# Returns rows from the indexed to the last one\n",
    "print(f\"2 - Rows from the idex given to the last one: \\n{df.loc[67960:]}\")\n",
    "print()\n",
    "\n",
    "\n",
    "# Returns the value of the \"track\" column in the first row or cell. loc[]: df.loc[row, column]\n",
    "print(f\"3 - Cell or Value from (row, column): \\n{df.loc[0, \"track\"]}\") \n",
    "\n",
    "print()\n",
    "\n",
    "# Returns the first and fifth rows, within the specified list, of the DataFrame.\n",
    "print(f\"4 - First and Fifth rows within a list: \\n{df.loc[[0,5]]}\") \n",
    "\n",
    "print()\n",
    "\n",
    "# Returns a column of the DataFrame and its abreviated notation.\n",
    "\n",
    "print(f'5 - Column of DataFrame: \\n{df.loc[:, \"track\"]}')\n",
    "print()\n",
    "print(f\"Column of DataFrame: \\n{df['track']}\")\n",
    "print()\n",
    "\n",
    "# Returns multiple columns and its abreviated notation.\n",
    "\n",
    "print(f\"6 - Multiple columns of DataFrame: \\n{df.loc[:, ['track', 'Artist']]}\")\n",
    "print()\n",
    "print(f\"Multiple columns of DataFrame: \\n{df[['track', 'Artist']]}\\n\")\n",
    "print()\n",
    "\n",
    "# Returns multiple consecutive columns.\n",
    "\n",
    "print(f\"7 - Multiple consecutive columns of DataFrame: \\n{df.loc[:, 'total play':'track']}\")\n",
    "print()\n",
    "\n"
   ]
  },
  {
   "cell_type": "markdown",
   "metadata": {},
   "source": [
    "##### __DataFrame Boolean Indexing__\n",
    "\n",
    "In Pandas, Boolean indexing is used to filter rows or columns of a DataFrame or Series based on conditional statements. It helps extract specific data that meets the defined condition by creating boolean masks, _which are arrays of True and False values_. __The True values indicate that the respective data should be selected, while False values indicate not selected__.\n",
    "\n",
    "_Instead of manually iterating through data to find values that meet a condition, Boolean indexing simplifies the process by applying logical expressions._"
   ]
  },
  {
   "cell_type": "code",
   "execution_count": 3,
   "metadata": {},
   "outputs": [
    {
     "name": "stdout",
     "output_type": "stream",
     "text": [
      "Input DataFrame:\n",
      "    A  B\n",
      "0  1  2\n",
      "1  3  4\n",
      "2  5  6\n",
      "\n",
      "Boolean Index:\n",
      "        A      B\n",
      "0  False  False\n",
      "1   True   True\n",
      "2   True   True\n"
     ]
    }
   ],
   "source": [
    "import pandas as pd\n",
    "\n",
    "# Create a Pandas DataFrame\n",
    "df = pd.DataFrame([[1, 2], [3, 4], [5, 6]], columns=['A', 'B'])\n",
    "\n",
    "# Display the DataFrame\n",
    "print(\"Input DataFrame:\\n\", df)\n",
    "print()\n",
    "\n",
    "# Create Boolean Index\n",
    "result = df > 2\n",
    "\n",
    "print('Boolean Index:\\n', result)"
   ]
  },
  {
   "cell_type": "markdown",
   "metadata": {},
   "source": [
    "Once a boolean index is created, you can use it to filter rows or columns in the DataFrame. _This is done by using .loc[] for label-based indexing and .iloc[] for position-based indexing._"
   ]
  },
  {
   "cell_type": "markdown",
   "metadata": {},
   "source": [
    ".loc"
   ]
  },
  {
   "cell_type": "markdown",
   "metadata": {},
   "source": [
    "_df.loc[row_condition, column_selection]_."
   ]
  },
  {
   "cell_type": "code",
   "execution_count": 5,
   "metadata": {},
   "outputs": [
    {
     "name": "stdout",
     "output_type": "stream",
     "text": [
      "Input DataFrame:\n",
      "    A  B\n",
      "0  1  2\n",
      "1  3  4\n",
      "2  5  6\n",
      "\n",
      "Output Filtered DataFrame:\n",
      " 1    4\n",
      "2    6\n",
      "Name: B, dtype: int64\n"
     ]
    }
   ],
   "source": [
    "import pandas as pd\n",
    "\n",
    "# Create a Pandas DataFrame\n",
    "df = pd.DataFrame([[1, 2], [3, 4], [5, 6]], columns=['A', 'B'])\n",
    "\n",
    "# Display the DataFrame\n",
    "print(\"Input DataFrame:\\n\", df)\n",
    "print()\n",
    "\n",
    "# Create Boolean Index\n",
    "s = (df['A'] > 2)\n",
    "\n",
    "# Filter DataFrame using the Boolean Index with .loc\n",
    "print('Output Filtered DataFrame:\\n',df.loc[s, 'B'])"
   ]
  },
  {
   "cell_type": "markdown",
   "metadata": {},
   "source": [
    ".iloc"
   ]
  },
  {
   "cell_type": "code",
   "execution_count": 6,
   "metadata": {},
   "outputs": [
    {
     "name": "stdout",
     "output_type": "stream",
     "text": [
      "Input DataFrame:\n",
      "    A  B\n",
      "0  1  2\n",
      "1  3  4\n",
      "2  5  6\n",
      "Output Filtered Data:\n",
      " 1    4\n",
      "2    6\n",
      "Name: B, dtype: int64\n"
     ]
    }
   ],
   "source": [
    "import pandas as pd\n",
    "\n",
    "# Create a Pandas DataFrame\n",
    "df = pd.DataFrame([[1, 2], [3, 4], [5, 6]], columns=['A', 'B'])\n",
    "\n",
    "# Display the DataFrame\n",
    "print(\"Input DataFrame:\\n\", df)\n",
    "\n",
    "# Create Boolean Index\n",
    "s = (df['A'] > 2)\n",
    "\n",
    "# Filter data using .iloc and the Boolean Index\n",
    "print('Output Filtered Data:\\n',df.iloc[s.values, 1])"
   ]
  },
  {
   "cell_type": "markdown",
   "metadata": {},
   "source": [
    "##### __Advanced Boolean Indexing with multiple Conditions__\n",
    "\n",
    "Pandas provides more complex boolean indexing by combining multiple conditions with the operators like & (and), | (or), and ~ (not). And also you can apply these conditions across different columns to create highly specific filters."
   ]
  },
  {
   "cell_type": "code",
   "execution_count": 8,
   "metadata": {},
   "outputs": [
    {
     "name": "stdout",
     "output_type": "stream",
     "text": [
      "Input DataFrame:\n",
      "    A  B  C\n",
      "0  1  5  x\n",
      "1  3  2  y\n",
      "2  5  8  x\n",
      "3  7  4  z\n",
      "\n",
      "Output Filtered DataFrame:\n",
      "    A  B  C\n",
      "1  3  2  y\n",
      "3  7  4  z\n"
     ]
    }
   ],
   "source": [
    "import pandas as pd\n",
    "\n",
    "# Create a DataFrame\n",
    "df = pd.DataFrame({'A': [1, 3, 5, 7],'B': [5, 2, 8, 4],'C': ['x', 'y', 'x', 'z']})\n",
    "\n",
    "# Display the DataFrame\n",
    "print(\"Input DataFrame:\\n\", df)\n",
    "print()\n",
    "\n",
    "# Apply multiple conditions using boolean indexing\n",
    "result = df.loc[(df['A'] > 2) & (df['B'] < 5), 'A':'C']\n",
    "\n",
    "print('Output Filtered DataFrame:\\n',result)"
   ]
  },
  {
   "cell_type": "markdown",
   "metadata": {},
   "source": [
    "##### __Pandas Boolean Masking__\n",
    "\n",
    "A boolean mask is an array of boolean values (True or False) used to filter data. It is created by applying conditional expressions to the dataset, which evaluates each element and returns True for matching conditions and False otherwise."
   ]
  },
  {
   "cell_type": "code",
   "execution_count": null,
   "metadata": {},
   "outputs": [
    {
     "name": "stdout",
     "output_type": "stream",
     "text": [
      "Original DataFrame:\n",
      "    Col1 Col2\n",
      "0     1    A\n",
      "1     3    B\n",
      "2     5    A\n",
      "3     7    C\n",
      "4     9    A\n",
      "\n",
      "Filtered Data:\n",
      "    Col1 Col2\n",
      "2     5    A\n",
      "4     9    A\n"
     ]
    }
   ],
   "source": [
    "import pandas as pd\n",
    "\n",
    "# Create a sample DataFrame\n",
    "df= pd.DataFrame({'Col1': [1, 3, 5, 7, 9],\n",
    "'Col2': ['A', 'B', 'A', 'C', 'A']})\n",
    "\n",
    "# Display the Input DataFrame\n",
    "print('Original DataFrame:\\n', df)\n",
    "print()\n",
    "\n",
    "# Create a boolean mask\n",
    "mask = (df['Col2'] == 'A') & (df['Col1'] > 4)\n",
    "\n",
    "# Apply the mask to the DataFrame\n",
    "filtered_data = df[mask]\n",
    "\n",
    "print('Filtered Data:\\n',filtered_data)"
   ]
  },
  {
   "cell_type": "markdown",
   "metadata": {},
   "source": [
    "##### _Masking Data Based on Index Value_\n",
    "\n",
    "Filtering data based on the index values of the DataFrame can be possible by creating the mask for the index, so that you can select rows based on their position or label.\n",
    "\n",
    "df.isin() method to create a boolean mask based on the index labels."
   ]
  },
  {
   "cell_type": "code",
   "execution_count": 12,
   "metadata": {},
   "outputs": [
    {
     "name": "stdout",
     "output_type": "stream",
     "text": [
      "Original DataFrame:\n",
      "    A1  A2\n",
      "a  10   9\n",
      "b  20   3\n",
      "c  30   5\n",
      "d  40   3\n",
      "e  50   2\n",
      "\n",
      "Filtered Data:\n",
      "    A1  A2\n",
      "b  20   3\n",
      "d  40   3\n"
     ]
    }
   ],
   "source": [
    "import pandas as pd\n",
    "\n",
    "# Create a DataFrame with a custom index\n",
    "df = pd.DataFrame({'A1': [10, 20, 30, 40, 50], 'A2':[9, 3, 5, 3, 2]\n",
    "}, index=['a', 'b', 'c', 'd', 'e'])\n",
    "\n",
    "# Dispaly the Input DataFrame\n",
    "print('Original DataFrame:\\n', df)\n",
    "print()\n",
    "\n",
    "# Define a mask based on the index\n",
    "mask = df.index.isin(['b', 'd'])\n",
    "\n",
    "# Apply the mask\n",
    "filtered_data = df[mask]\n",
    "\n",
    "print('Filtered Data:\\n',filtered_data)"
   ]
  },
  {
   "cell_type": "markdown",
   "metadata": {},
   "source": [
    "##### _Masking Data Based on Column Value_\n",
    "\n",
    "In addition to filtering based on index values, you can also filter data based on specific column values using boolean masks. The df.isin() method is used to check if values in a column match a list of values."
   ]
  },
  {
   "cell_type": "code",
   "execution_count": 6,
   "metadata": {},
   "outputs": [
    {
     "name": "stdout",
     "output_type": "stream",
     "text": [
      "Original DataFrame:\n",
      "    A  B\n",
      "0  1  a\n",
      "1  2  b\n",
      "2  3  f\n",
      "\n",
      "Filtered Data:\n",
      "    A  B\n",
      "0  1  a\n",
      "2  3  f\n"
     ]
    }
   ],
   "source": [
    "import pandas as pd\n",
    "\n",
    "# Create a DataFrame\n",
    "df= pd.DataFrame({'A': [1, 2, 3],'B': ['a', 'b', 'f']})\n",
    "\n",
    "# Dispaly the Input DataFrame\n",
    "print('Original DataFrame:\\n', df)\n",
    "print()\n",
    "\n",
    "# Define a mask for specific values in column 'A' and 'B'\n",
    "mask = df['A'].isin([1, 3]) | df['B'].isin(['a'])\n",
    "\n",
    "# Apply the mask using the boolean indexing\n",
    "filtered_data = df[mask]\n",
    "\n",
    "print('Filtered Data:\\n', filtered_data)"
   ]
  }
 ],
 "metadata": {
  "kernelspec": {
   "display_name": "Python-VENV-fXy5dZEI",
   "language": "python",
   "name": "python3"
  },
  "language_info": {
   "codemirror_mode": {
    "name": "ipython",
    "version": 3
   },
   "file_extension": ".py",
   "mimetype": "text/x-python",
   "name": "python",
   "nbconvert_exporter": "python",
   "pygments_lexer": "ipython3",
   "version": "3.13.2"
  }
 },
 "nbformat": 4,
 "nbformat_minor": 2
}

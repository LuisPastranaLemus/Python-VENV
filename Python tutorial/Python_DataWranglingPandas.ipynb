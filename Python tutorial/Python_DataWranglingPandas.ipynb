{
 "cells": [
  {
   "cell_type": "markdown",
   "metadata": {},
   "source": [
    "### __Pandas__\n",
    "\n",
    "Pandas is a Python library used for working with data sets.\n",
    "\n",
    "It has functions for analyzing, cleaning, exploring, and manipulating data.\n",
    "\n",
    "The name \"Pandas\" has a reference to both \"Panel Data\", and \"Python Data Analysis\" and was created by Wes McKinney in 2008.\n",
    "\n",
    "Pandas allows us to analyze big data and make conclusions based on statistical theories.\n",
    "\n",
    "Pandas can clean messy data sets, and make them readable and relevant.\n",
    "\n",
    "Relevant data is very important in data science.\n"
   ]
  },
  {
   "cell_type": "markdown",
   "metadata": {},
   "source": [
    "If you have Python and PIP already installed on a system, then installation of Pandas is very easy.\n",
    "\n",
    "Install it using this command:\n",
    "\n",
    "C:\\Users\\Your Name>pip install pandas\n",
    "\n",
    "C:\\Users\\Your Name>pipenv install pandas\n"
   ]
  },
  {
   "cell_type": "markdown",
   "metadata": {},
   "source": [
    "##### __Import Pandas__\n",
    "\n",
    "Once Pandas is installed, import it in your applications by adding the import keyword"
   ]
  },
  {
   "cell_type": "code",
   "execution_count": 1,
   "metadata": {},
   "outputs": [
    {
     "name": "stdout",
     "output_type": "stream",
     "text": [
      "    cars  passings\n",
      "0    BMW         3\n",
      "1  Volvo         7\n",
      "2   Ford         2\n"
     ]
    }
   ],
   "source": [
    "\n",
    "import pandas\n",
    "\n",
    "mydataset = {\n",
    "  'cars': [\"BMW\", \"Volvo\", \"Ford\"],\n",
    "  'passings': [3, 7, 2]\n",
    "}\n",
    "\n",
    "myvar = pandas.DataFrame(mydataset)\n",
    "\n",
    "print(myvar)"
   ]
  },
  {
   "cell_type": "markdown",
   "metadata": {},
   "source": [
    "##### _Pandas as pd_\n",
    "\n",
    "Pandas is usually imported under the pd alias.\n",
    "\n",
    "In Python alias are an alternate name for referring to the same thing.\n",
    "\n",
    "Create an alias with the \"as\" keyword while importing"
   ]
  },
  {
   "cell_type": "code",
   "execution_count": 2,
   "metadata": {},
   "outputs": [
    {
     "name": "stdout",
     "output_type": "stream",
     "text": [
      "    cars  passings\n",
      "0    BMW         3\n",
      "1  Volvo         7\n",
      "2   Ford         2\n"
     ]
    }
   ],
   "source": [
    "import pandas as pd\n",
    "\n",
    "mydataset = {\n",
    "  'cars': [\"BMW\", \"Volvo\", \"Ford\"],\n",
    "  'passings': [3, 7, 2]\n",
    "}\n",
    "\n",
    "myvar = pd.DataFrame(mydataset)\n",
    "\n",
    "print(myvar)"
   ]
  },
  {
   "cell_type": "markdown",
   "metadata": {},
   "source": [
    "##### __Pandas Series__\n",
    "\n",
    "A Pandas Series is like a column in a table.\n",
    "\n",
    "It is a one-dimensional array holding data of any type."
   ]
  },
  {
   "cell_type": "code",
   "execution_count": 3,
   "metadata": {},
   "outputs": [
    {
     "name": "stdout",
     "output_type": "stream",
     "text": [
      "0    1\n",
      "1    7\n",
      "2    2\n",
      "dtype: int64\n"
     ]
    }
   ],
   "source": [
    "import pandas as pd\n",
    "\n",
    "a = [1, 7, 2]\n",
    "\n",
    "myvar = pd.Series(a)\n",
    "\n",
    "print(myvar)"
   ]
  },
  {
   "cell_type": "markdown",
   "metadata": {},
   "source": [
    "##### _Labels_\n",
    "\n",
    "If nothing else is specified, the values are labeled with their index number. First value has index 0, second value has index 1 etc.\n",
    "\n",
    "This label can be used to access a specified value."
   ]
  },
  {
   "cell_type": "code",
   "execution_count": 4,
   "metadata": {},
   "outputs": [
    {
     "name": "stdout",
     "output_type": "stream",
     "text": [
      "1\n"
     ]
    }
   ],
   "source": [
    "print(myvar[0])"
   ]
  },
  {
   "cell_type": "markdown",
   "metadata": {},
   "source": [
    "With the \"index\" argument, you can name your own labels."
   ]
  },
  {
   "cell_type": "code",
   "execution_count": 6,
   "metadata": {},
   "outputs": [
    {
     "name": "stdout",
     "output_type": "stream",
     "text": [
      "x    1\n",
      "y    7\n",
      "z    2\n",
      "dtype: int64\n",
      "\n",
      "7\n"
     ]
    }
   ],
   "source": [
    "import pandas as pd\n",
    "\n",
    "a = [1, 7, 2]\n",
    "\n",
    "myvar = pd.Series(a, index = [\"x\", \"y\", \"z\"])\n",
    "\n",
    "print(myvar)\n",
    "\n",
    "print()\n",
    "\n",
    "print(myvar[\"y\"])"
   ]
  },
  {
   "cell_type": "markdown",
   "metadata": {},
   "source": [
    "##### _Key/Value Objects as Series_\n",
    "\n",
    "You can also use a key/value object, like a dictionary, when creating a Series."
   ]
  },
  {
   "cell_type": "code",
   "execution_count": 7,
   "metadata": {},
   "outputs": [
    {
     "name": "stdout",
     "output_type": "stream",
     "text": [
      "day1    420\n",
      "day2    380\n",
      "day3    390\n",
      "dtype: int64\n"
     ]
    }
   ],
   "source": [
    "import pandas as pd\n",
    "\n",
    "calories = {\"day1\": 420, \"day2\": 380, \"day3\": 390}\n",
    "\n",
    "myvar = pd.Series(calories)\n",
    "\n",
    "print(myvar)"
   ]
  },
  {
   "cell_type": "markdown",
   "metadata": {},
   "source": [
    "To select only some of the items in the dictionary, use the index argument and specify only the items you want to include in the Series."
   ]
  },
  {
   "cell_type": "code",
   "execution_count": 11,
   "metadata": {},
   "outputs": [
    {
     "name": "stdout",
     "output_type": "stream",
     "text": [
      "day1    420\n",
      "day2    380\n",
      "dtype: int64 \n",
      "\n",
      "<class 'pandas.core.series.Series'>\n"
     ]
    }
   ],
   "source": [
    "import pandas as pd\n",
    "\n",
    "calories = {\"day1\": 420, \"day2\": 380, \"day3\": 390}\n",
    "\n",
    "myvar = pd.Series(calories, index = [\"day1\", \"day2\"])\n",
    "\n",
    "print(f\"{myvar} \\n\")\n",
    "print(type(myvar))"
   ]
  },
  {
   "cell_type": "markdown",
   "metadata": {},
   "source": [
    "##### __Pandas DataFrame__\n",
    "\n",
    "A Pandas DataFrame is a 2 dimensional data structure, like a 2 dimensional array, or a table with rows and columns.\n",
    "\n",
    "DataFrame(_data, columns_)"
   ]
  },
  {
   "cell_type": "markdown",
   "metadata": {},
   "source": [
    "##### _DataFrame Attributes_\n",
    "\n",
    "In the context of pandas, attributes are properties of a DataFrame object that provide information about the data it contains.\n",
    "\n",
    "Attributes in pandas allow you to access general information about a dataset without performing any data manipulation. They provide a convenient way to get an overview of the DataFrame's structure and contents."
   ]
  },
  {
   "cell_type": "markdown",
   "metadata": {},
   "source": [
    "Pandas Data types\n",
    "\n",
    "------------ Python --- Pandas\n",
    "\n",
    "string------ str------- object\n",
    "\n",
    "integer num- int------- int64\n",
    "\n",
    "float num--- float-----\tfloat64\n",
    "\n",
    "logic data-- bool------\tbool"
   ]
  },
  {
   "cell_type": "code",
   "execution_count": 31,
   "metadata": {},
   "outputs": [
    {
     "name": "stdout",
     "output_type": "stream",
     "text": [
      "c:\\Users\\luisp\\OneDrive\\Documentos\\GitHub\\Python-VENV\\Python tutorial \n",
      "\n",
      "dtypes: \n",
      "   user_id      object\n",
      "total play    float64\n",
      "Artist         object\n",
      "genre          object\n",
      "track          object\n",
      "dtype: object \n",
      "\n",
      "index: \n",
      " RangeIndex(start=0, stop=67963, step=1) \n",
      "\n",
      "columns: \n",
      " Index(['  user_id', 'total play', 'Artist', 'genre', 'track'], dtype='object') \n",
      "\n",
      "shape: \n",
      " (67963, 5) \n",
      "\n",
      "size: \n",
      " 339815 \n",
      "\n",
      "ndim: \n",
      " 2 \n",
      "\n",
      "empty: \n",
      " False \n",
      "\n",
      "values: \n",
      " [['BF6EA5AF' 92.85138808302445 'Marina Rei' 'pop' 'Musica']\n",
      " ['FB1E568E' 282.981 'Stive Morgan' 'ambient' 'Love Planet']\n",
      " ['FB1E568E' 282.981 'Stive Morgan' 'ambient' 'Love Planet']\n",
      " ...\n",
      " ['26B7058C' 292.455 'Red God' 'metal' 'Действуй!']\n",
      " ['DB0038A8' 11.529112451445515 'Less Chapell' 'pop' 'Home']\n",
      " ['FE8684F6' 0.1 nan nan nan]] \n",
      "\n",
      "axes: \n",
      " [RangeIndex(start=0, stop=67963, step=1), Index(['  user_id', 'total play', 'Artist', 'genre', 'track'], dtype='object')] \n",
      "\n",
      "T: \n",
      "                  0             1             2                    3      \\\n",
      "  user_id     BF6EA5AF      FB1E568E      FB1E568E             EF15C7BA   \n",
      "total play   92.851388       282.981       282.981                8.966   \n",
      "Artist      Marina Rei  Stive Morgan  Stive Morgan                  NaN   \n",
      "genre              pop       ambient       ambient                dance   \n",
      "track           Musica   Love Planet   Love Planet  Loving Every Minute   \n",
      "\n",
      "                             4                                       5      \\\n",
      "  user_id                 82F52E69                                4166D680   \n",
      "total play              193.776327                                   3.007   \n",
      "Artist                      Rixton  Henry Hall & His Gleneagles Hotel Band   \n",
      "genre                          pop                                    jazz   \n",
      "track       Me And My Broken Heart                                    Home   \n",
      "\n",
      "                   6           7                                     8      \\\n",
      "  user_id        F4F5677    386FE1ED                              A5E0D927   \n",
      "total play           0.1      211.88                                 3.161   \n",
      "Artist               NaN         NaN                 Andrew Paul Woodworth   \n",
      "genre       classicmetal  electronic                                   pop   \n",
      "track                NaN     Riviera  The Name of This Next Song Is Called   \n",
      "\n",
      "                   9      ...         67953       67954        67955  \\\n",
      "  user_id       E9E8A0CA  ...      A06381D8    6E8E430E     D83CBA77   \n",
      "total play        274.39  ...         2.502  139.627717        185.0   \n",
      "Artist      Pillar Point  ...   Flip Grater     Alt & J          TKN   \n",
      "genre              indie  ...          folk      trance         rock   \n",
      "track               Dove  ...  My Old Shoes     Emotion  Не отступай   \n",
      "\n",
      "               67956          67957          67958         67959      67960  \\\n",
      "  user_id   816FBC10       18510741       2E27DF51      4F29D4D5   26B7058C   \n",
      "total play       2.0          109.0     220.551837        26.127    292.455   \n",
      "Artist         89ers    Steel Pulse   Nadine Coyle  Digital Hero    Red God   \n",
      "genre          dance         reggae            pop         dance      metal   \n",
      "track       Go Go Go  Chant A Psalm  Girls On Fire     The Model  Действуй!   \n",
      "\n",
      "                   67961     67962  \n",
      "  user_id       DB0038A8  FE8684F6  \n",
      "total play     11.529112       0.1  \n",
      "Artist      Less Chapell       NaN  \n",
      "genre                pop       NaN  \n",
      "track               Home       NaN  \n",
      "\n",
      "[5 rows x 67963 columns] \n",
      "\n"
     ]
    }
   ],
   "source": [
    "import pandas as pd\n",
    "import os\n",
    "\n",
    "print(f\"{os.getcwd()} \\n\")\n",
    "\n",
    "df = pd.read_csv('DataSets/music_log.csv')\n",
    "\n",
    "print(f\"dtypes: \\n {df.dtypes} \\n\") # Returns the data types of each column.\n",
    "print(f\"index: \\n {df.index} \\n\") # Returns the row labels as an Index object.\n",
    "print(f\"columns: \\n {df.columns} \\n\")# Returns the column labels as an Index object.\n",
    "print(f\"shape: \\n {df.shape} \\n\") # Returns the dimensions of the DataFrame as a tuple (rows, columns)\n",
    "print(f\"size: \\n {df.size} \\n\") # Returns the total number of elements (rows × columns).\n",
    "print(f\"ndim: \\n {df.ndim} \\n\") # Returns the number of dimensions (always 2 for a DataFrame).\n",
    "print(f\"empty: \\n {df.empty} \\n\") # Returns True if the DataFrame is empty.\n",
    "print(f\"values: \\n {df.values} \\n\") # Returns the underlying NumPy array representation.\n",
    "print(f\"axes: \\n {df.axes} \\n\") # Returns a list of row and column index labels.\n",
    "print(f\"T: \\n {df.T} \\n\") # Returns the transpose of the DataFrame."
   ]
  },
  {
   "cell_type": "markdown",
   "metadata": {},
   "source": [
    "##### _DataFrame from a List_"
   ]
  },
  {
   "cell_type": "code",
   "execution_count": 33,
   "metadata": {},
   "outputs": [
    {
     "name": "stdout",
     "output_type": "stream",
     "text": [
      "  country      capital\n",
      "0  France        Paris\n",
      "1  Russia       Moscow\n",
      "2   China      Beijing\n",
      "3  Mexico  Mexico City\n",
      "4   Egypt        Cairo\n"
     ]
    }
   ],
   "source": [
    "import pandas as pd\n",
    "\n",
    "atlas = [\n",
    "      ['France', 'Paris'],  \n",
    "        ['Russia', 'Moscow'],  \n",
    "        ['China', 'Beijing'],  \n",
    "        ['Mexico', 'Mexico City'],  \n",
    "        ['Egypt', 'Cairo'],\n",
    "]\n",
    "geography = ['country', 'capital']\n",
    "\n",
    "world_map = pd.DataFrame(data=atlas , columns=geography)\n",
    "\n",
    "print(world_map)"
   ]
  },
  {
   "cell_type": "markdown",
   "metadata": {},
   "source": [
    "##### _DataFrame from a Dictionary_"
   ]
  },
  {
   "cell_type": "code",
   "execution_count": 35,
   "metadata": {},
   "outputs": [
    {
     "name": "stdout",
     "output_type": "stream",
     "text": [
      "   calories  duration     type\n",
      "0       420        50    carbs\n",
      "1       380        40  glucose\n",
      "2       390        45    sugar\n"
     ]
    }
   ],
   "source": [
    "import pandas as pd\n",
    "\n",
    "data = {\n",
    "  \"calories\": [420, 380, 390],\n",
    "  \"duration\": [50, 40, 45],\n",
    "  \"type\": [\"carbs\", \"glucose\", \"sugar\"]\n",
    "}\n",
    "\n",
    "df = pd.DataFrame(data)\n",
    "\n",
    "print(df) "
   ]
  },
  {
   "cell_type": "markdown",
   "metadata": {},
   "source": [
    "##### _DataFrame from a File_"
   ]
  },
  {
   "cell_type": "code",
   "execution_count": null,
   "metadata": {},
   "outputs": [
    {
     "name": "stdout",
     "output_type": "stream",
     "text": [
      "   age  mouse1  mouse2\n",
      "0    1      24      18\n",
      "1    2      56      36\n",
      "2    3      64      50\n",
      "3    4      82      68\n",
      "4    5      92      72\n",
      "5    6      94      72\n",
      "6    7      88      74\n",
      "\n",
      "60\n"
     ]
    }
   ],
   "source": [
    "import pandas as pd\n",
    "\n",
    "df = pd.read_csv('DataSets/mouse_growth_rate.csv') # Read .csv or .xlsx or xls or .xlsm or xlsb or xltx file.\n",
    "\n",
    "print(df) \n",
    "\n",
    "print()\n",
    "\n",
    "print(pd.options.display.max_rows) # You can check your system's maximum rows with the pd.options.display.max_rows statement. Default is 60."
   ]
  },
  {
   "cell_type": "markdown",
   "metadata": {},
   "source": [
    "##### _DataFrame Methods()_"
   ]
  },
  {
   "cell_type": "code",
   "execution_count": 45,
   "metadata": {},
   "outputs": [
    {
     "name": "stdout",
     "output_type": "stream",
     "text": [
      "<class 'pandas.core.frame.DataFrame'>\n",
      "RangeIndex: 67963 entries, 0 to 67962\n",
      "Data columns (total 5 columns):\n",
      " #   Column      Non-Null Count  Dtype  \n",
      "---  ------      --------------  -----  \n",
      " 0     user_id   67963 non-null  object \n",
      " 1   total play  67399 non-null  float64\n",
      " 2   Artist      59646 non-null  object \n",
      " 3   genre       64661 non-null  object \n",
      " 4   track       64804 non-null  object \n",
      "dtypes: float64(1), object(4)\n",
      "memory usage: 2.6+ MB\n"
     ]
    }
   ],
   "source": [
    "import pandas as pd\n",
    "\n",
    "df = pd.read_csv('DataSets/music_log.csv')\n",
    "\n",
    "df.info() # Displays a summary of the DataFrame, including data types and memory usage."
   ]
  },
  {
   "cell_type": "code",
   "execution_count": 46,
   "metadata": {},
   "outputs": [
    {
     "data": {
      "text/html": [
       "<div>\n",
       "<style scoped>\n",
       "    .dataframe tbody tr th:only-of-type {\n",
       "        vertical-align: middle;\n",
       "    }\n",
       "\n",
       "    .dataframe tbody tr th {\n",
       "        vertical-align: top;\n",
       "    }\n",
       "\n",
       "    .dataframe thead th {\n",
       "        text-align: right;\n",
       "    }\n",
       "</style>\n",
       "<table border=\"1\" class=\"dataframe\">\n",
       "  <thead>\n",
       "    <tr style=\"text-align: right;\">\n",
       "      <th></th>\n",
       "      <th>user_id</th>\n",
       "      <th>total play</th>\n",
       "      <th>Artist</th>\n",
       "      <th>genre</th>\n",
       "      <th>track</th>\n",
       "    </tr>\n",
       "  </thead>\n",
       "  <tbody>\n",
       "    <tr>\n",
       "      <th>0</th>\n",
       "      <td>BF6EA5AF</td>\n",
       "      <td>92.851388</td>\n",
       "      <td>Marina Rei</td>\n",
       "      <td>pop</td>\n",
       "      <td>Musica</td>\n",
       "    </tr>\n",
       "    <tr>\n",
       "      <th>1</th>\n",
       "      <td>FB1E568E</td>\n",
       "      <td>282.981000</td>\n",
       "      <td>Stive Morgan</td>\n",
       "      <td>ambient</td>\n",
       "      <td>Love Planet</td>\n",
       "    </tr>\n",
       "    <tr>\n",
       "      <th>2</th>\n",
       "      <td>FB1E568E</td>\n",
       "      <td>282.981000</td>\n",
       "      <td>Stive Morgan</td>\n",
       "      <td>ambient</td>\n",
       "      <td>Love Planet</td>\n",
       "    </tr>\n",
       "    <tr>\n",
       "      <th>3</th>\n",
       "      <td>EF15C7BA</td>\n",
       "      <td>8.966000</td>\n",
       "      <td>NaN</td>\n",
       "      <td>dance</td>\n",
       "      <td>Loving Every Minute</td>\n",
       "    </tr>\n",
       "    <tr>\n",
       "      <th>4</th>\n",
       "      <td>82F52E69</td>\n",
       "      <td>193.776327</td>\n",
       "      <td>Rixton</td>\n",
       "      <td>pop</td>\n",
       "      <td>Me And My Broken Heart</td>\n",
       "    </tr>\n",
       "  </tbody>\n",
       "</table>\n",
       "</div>"
      ],
      "text/plain": [
       "    user_id  total play        Artist    genre                   track\n",
       "0  BF6EA5AF   92.851388    Marina Rei      pop                  Musica\n",
       "1  FB1E568E  282.981000  Stive Morgan  ambient             Love Planet\n",
       "2  FB1E568E  282.981000  Stive Morgan  ambient             Love Planet\n",
       "3  EF15C7BA    8.966000           NaN    dance     Loving Every Minute\n",
       "4  82F52E69  193.776327        Rixton      pop  Me And My Broken Heart"
      ]
     },
     "execution_count": 46,
     "metadata": {},
     "output_type": "execute_result"
    }
   ],
   "source": [
    "import pandas as pd\n",
    "\n",
    "df = pd.read_csv('DataSets/music_log.csv')\n",
    "\n",
    "df.head() # Returns the first n rows (default is 5)."
   ]
  },
  {
   "cell_type": "code",
   "execution_count": 47,
   "metadata": {},
   "outputs": [
    {
     "data": {
      "text/html": [
       "<div>\n",
       "<style scoped>\n",
       "    .dataframe tbody tr th:only-of-type {\n",
       "        vertical-align: middle;\n",
       "    }\n",
       "\n",
       "    .dataframe tbody tr th {\n",
       "        vertical-align: top;\n",
       "    }\n",
       "\n",
       "    .dataframe thead th {\n",
       "        text-align: right;\n",
       "    }\n",
       "</style>\n",
       "<table border=\"1\" class=\"dataframe\">\n",
       "  <thead>\n",
       "    <tr style=\"text-align: right;\">\n",
       "      <th></th>\n",
       "      <th>user_id</th>\n",
       "      <th>total play</th>\n",
       "      <th>Artist</th>\n",
       "      <th>genre</th>\n",
       "      <th>track</th>\n",
       "    </tr>\n",
       "  </thead>\n",
       "  <tbody>\n",
       "    <tr>\n",
       "      <th>67953</th>\n",
       "      <td>A06381D8</td>\n",
       "      <td>2.502000</td>\n",
       "      <td>Flip Grater</td>\n",
       "      <td>folk</td>\n",
       "      <td>My Old Shoes</td>\n",
       "    </tr>\n",
       "    <tr>\n",
       "      <th>67954</th>\n",
       "      <td>6E8E430E</td>\n",
       "      <td>139.627717</td>\n",
       "      <td>Alt &amp; J</td>\n",
       "      <td>trance</td>\n",
       "      <td>Emotion</td>\n",
       "    </tr>\n",
       "    <tr>\n",
       "      <th>67955</th>\n",
       "      <td>D83CBA77</td>\n",
       "      <td>185.000000</td>\n",
       "      <td>TKN</td>\n",
       "      <td>rock</td>\n",
       "      <td>Не отступай</td>\n",
       "    </tr>\n",
       "    <tr>\n",
       "      <th>67956</th>\n",
       "      <td>816FBC10</td>\n",
       "      <td>2.000000</td>\n",
       "      <td>89ers</td>\n",
       "      <td>dance</td>\n",
       "      <td>Go Go Go</td>\n",
       "    </tr>\n",
       "    <tr>\n",
       "      <th>67957</th>\n",
       "      <td>18510741</td>\n",
       "      <td>109.000000</td>\n",
       "      <td>Steel Pulse</td>\n",
       "      <td>reggae</td>\n",
       "      <td>Chant A Psalm</td>\n",
       "    </tr>\n",
       "    <tr>\n",
       "      <th>67958</th>\n",
       "      <td>2E27DF51</td>\n",
       "      <td>220.551837</td>\n",
       "      <td>Nadine Coyle</td>\n",
       "      <td>pop</td>\n",
       "      <td>Girls On Fire</td>\n",
       "    </tr>\n",
       "    <tr>\n",
       "      <th>67959</th>\n",
       "      <td>4F29D4D5</td>\n",
       "      <td>26.127000</td>\n",
       "      <td>Digital Hero</td>\n",
       "      <td>dance</td>\n",
       "      <td>The Model</td>\n",
       "    </tr>\n",
       "    <tr>\n",
       "      <th>67960</th>\n",
       "      <td>26B7058C</td>\n",
       "      <td>292.455000</td>\n",
       "      <td>Red God</td>\n",
       "      <td>metal</td>\n",
       "      <td>Действуй!</td>\n",
       "    </tr>\n",
       "    <tr>\n",
       "      <th>67961</th>\n",
       "      <td>DB0038A8</td>\n",
       "      <td>11.529112</td>\n",
       "      <td>Less Chapell</td>\n",
       "      <td>pop</td>\n",
       "      <td>Home</td>\n",
       "    </tr>\n",
       "    <tr>\n",
       "      <th>67962</th>\n",
       "      <td>FE8684F6</td>\n",
       "      <td>0.100000</td>\n",
       "      <td>NaN</td>\n",
       "      <td>NaN</td>\n",
       "      <td>NaN</td>\n",
       "    </tr>\n",
       "  </tbody>\n",
       "</table>\n",
       "</div>"
      ],
      "text/plain": [
       "        user_id  total play        Artist   genre          track\n",
       "67953  A06381D8    2.502000   Flip Grater    folk   My Old Shoes\n",
       "67954  6E8E430E  139.627717       Alt & J  trance        Emotion\n",
       "67955  D83CBA77  185.000000           TKN    rock    Не отступай\n",
       "67956  816FBC10    2.000000         89ers   dance       Go Go Go\n",
       "67957  18510741  109.000000   Steel Pulse  reggae  Chant A Psalm\n",
       "67958  2E27DF51  220.551837  Nadine Coyle     pop  Girls On Fire\n",
       "67959  4F29D4D5   26.127000  Digital Hero   dance      The Model\n",
       "67960  26B7058C  292.455000       Red God   metal      Действуй!\n",
       "67961  DB0038A8   11.529112  Less Chapell     pop           Home\n",
       "67962  FE8684F6    0.100000           NaN     NaN            NaN"
      ]
     },
     "execution_count": 47,
     "metadata": {},
     "output_type": "execute_result"
    }
   ],
   "source": [
    "import pandas as pd\n",
    "\n",
    "df = pd.read_csv('DataSets/music_log.csv')\n",
    "\n",
    "df.tail(10) #  Returns the last n rows."
   ]
  },
  {
   "cell_type": "code",
   "execution_count": 48,
   "metadata": {},
   "outputs": [
    {
     "data": {
      "text/plain": [
       "Index             132\n",
       "  user_id     3937800\n",
       "total play     543704\n",
       "Artist        4103453\n",
       "genre         3656054\n",
       "track         4503010\n",
       "dtype: int64"
      ]
     },
     "execution_count": 48,
     "metadata": {},
     "output_type": "execute_result"
    }
   ],
   "source": [
    "import pandas as pd\n",
    "\n",
    "df = pd.read_csv('DataSets/music_log.csv')\n",
    "\n",
    "# df.memory_usage() # Returns the memory usage of each column in bytes.\n",
    "df.memory_usage(index=True, deep=True) # Returns the memory usage of each column in bytes, including the index."
   ]
  },
  {
   "cell_type": "code",
   "execution_count": 49,
   "metadata": {},
   "outputs": [
    {
     "data": {
      "text/html": [
       "<div>\n",
       "<style scoped>\n",
       "    .dataframe tbody tr th:only-of-type {\n",
       "        vertical-align: middle;\n",
       "    }\n",
       "\n",
       "    .dataframe tbody tr th {\n",
       "        vertical-align: top;\n",
       "    }\n",
       "\n",
       "    .dataframe thead th {\n",
       "        text-align: right;\n",
       "    }\n",
       "</style>\n",
       "<table border=\"1\" class=\"dataframe\">\n",
       "  <thead>\n",
       "    <tr style=\"text-align: right;\">\n",
       "      <th></th>\n",
       "      <th>total play</th>\n",
       "    </tr>\n",
       "  </thead>\n",
       "  <tbody>\n",
       "    <tr>\n",
       "      <th>count</th>\n",
       "      <td>67399.000000</td>\n",
       "    </tr>\n",
       "    <tr>\n",
       "      <th>mean</th>\n",
       "      <td>98.899155</td>\n",
       "    </tr>\n",
       "    <tr>\n",
       "      <th>std</th>\n",
       "      <td>144.460713</td>\n",
       "    </tr>\n",
       "    <tr>\n",
       "      <th>min</th>\n",
       "      <td>0.000000</td>\n",
       "    </tr>\n",
       "    <tr>\n",
       "      <th>25%</th>\n",
       "      <td>2.019000</td>\n",
       "    </tr>\n",
       "    <tr>\n",
       "      <th>50%</th>\n",
       "      <td>20.135056</td>\n",
       "    </tr>\n",
       "    <tr>\n",
       "      <th>75%</th>\n",
       "      <td>194.335000</td>\n",
       "    </tr>\n",
       "    <tr>\n",
       "      <th>max</th>\n",
       "      <td>8638.736000</td>\n",
       "    </tr>\n",
       "  </tbody>\n",
       "</table>\n",
       "</div>"
      ],
      "text/plain": [
       "         total play\n",
       "count  67399.000000\n",
       "mean      98.899155\n",
       "std      144.460713\n",
       "min        0.000000\n",
       "25%        2.019000\n",
       "50%       20.135056\n",
       "75%      194.335000\n",
       "max     8638.736000"
      ]
     },
     "execution_count": 49,
     "metadata": {},
     "output_type": "execute_result"
    }
   ],
   "source": [
    "import pandas as pd\n",
    "\n",
    "df = pd.read_csv('DataSets/music_log.csv')\n",
    "\n",
    "df.describe() # Returns a summary of statistics for numerical columns. "
   ]
  },
  {
   "cell_type": "markdown",
   "metadata": {},
   "source": [
    "##### _DataFrame Indexing_"
   ]
  }
 ],
 "metadata": {
  "kernelspec": {
   "display_name": "Python-VENV-fXy5dZEI",
   "language": "python",
   "name": "python3"
  },
  "language_info": {
   "codemirror_mode": {
    "name": "ipython",
    "version": 3
   },
   "file_extension": ".py",
   "mimetype": "text/x-python",
   "name": "python",
   "nbconvert_exporter": "python",
   "pygments_lexer": "ipython3",
   "version": "3.13.2"
  }
 },
 "nbformat": 4,
 "nbformat_minor": 2
}

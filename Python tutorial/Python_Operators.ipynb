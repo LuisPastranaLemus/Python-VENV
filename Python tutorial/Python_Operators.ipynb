{
 "cells": [
  {
   "cell_type": "markdown",
   "metadata": {},
   "source": [
    "### Python Operators"
   ]
  },
  {
   "cell_type": "markdown",
   "metadata": {},
   "source": [
    "##### Python Arithmetic Operators\n",
    "\n",
    "Operator\tName\t      Example\n",
    "\n",
    "\\+\t   |   Addition\t      | x + y\t\n",
    "\n",
    "\\-\t   |   Subtraction\t  | x - y\t\n",
    "\n",
    "\\*\t   |   Multiplication |  x * y\t\n",
    "\n",
    "\\/\t   |   Division\t      | x / y\t\n",
    "\n",
    "\\%\t   |   Modulus\t      | x % y\t\n",
    "\n",
    "\\**\t   |   Exponentiation |  x ** y\t\n",
    "\n",
    "\\//\t   |   Floor division |  x // y"
   ]
  },
  {
   "cell_type": "markdown",
   "metadata": {},
   "source": [
    "##### Python Assignment Operators\n",
    "\n",
    "Operator\tExample\tSame As\n",
    "\n",
    "=\t| x = 5\t | x = 5\t\n",
    "\n",
    "+=\t| x += 3 |\tx = x + 3\t\n",
    "\n",
    "-=\t| x -= 3 |\tx = x - 3\t\n",
    "\n",
    "*=\t| x *= 3 |\tx = x * 3\t\n",
    "\n",
    "/=\t| x /= 3 |\tx = x / 3\t\n",
    "\n",
    "%=\t| x %= 3 |\tx = x % 3\t\n",
    "\n",
    "//=\t| x //= 3 |\tx = x // 3\t\n",
    "\n",
    "**=\t| x **= 3 |\tx = x ** 3\t\n",
    "\n",
    "&=\t| x &= 3 |\tx = x & 3\t\n",
    "\n",
    "|=\t| x |= 3 |\tx = x | 3\t\n",
    "\n",
    "^=\t| x ^= 3 |\tx = x ^ 3\t\n",
    "\n",
    "\\>>=\t| x >>= 3 |\tx = x >> 3\t\n",
    "\n",
    "<<=\t| x <<= 3 |\tx = x << 3\t\n",
    "\n",
    ":=\t| print(x := 3) |\tx = 3\n",
    "\n",
    "print(x)"
   ]
  },
  {
   "cell_type": "markdown",
   "metadata": {},
   "source": [
    "##### Python Comparison Operators\n",
    "\n",
    "Operator\tName\tExample\t\n",
    "\n",
    "== |\tEqual |\tx == y\t\n",
    "\n",
    "!= |\tNot equal |\tx != y\t\n",
    "\n",
    "\\> |\tGreater than |\tx > y\t\n",
    "\n",
    "< |\tLess than |\tx < y\t\n",
    "\n",
    "\\>= |\tGreater than or equal to |\tx >= y\t\n",
    "\n",
    "<= |\tLess than or equal to |\tx <= y"
   ]
  },
  {
   "cell_type": "markdown",
   "metadata": {},
   "source": [
    "##### Python Logical Operators\n",
    "\n",
    "Operator\tDescription\t                           Example\t\n",
    "and |\tReturns True if both statements are true |\tx < 5 and  x < 10\t\n",
    "\n",
    "or |\tReturns True if one of the statements is true |\tx < 5 or x < 4\t\n",
    "\n",
    "not |\tReverse the result, returns False if the result is true |\tnot(x < 5 and x < 10)"
   ]
  },
  {
   "cell_type": "markdown",
   "metadata": {},
   "source": [
    "#### Python Identity Operators\n",
    "\n",
    "Operator\tDescription \tExample\t \n",
    "\n",
    "is |\tReturns True if both variables are the same object |\tx is y\t\n",
    "\n",
    "is not |\tReturns True if both variables are not the same object |\tx is not y"
   ]
  },
  {
   "cell_type": "markdown",
   "metadata": {},
   "source": [
    "##### Python Membership Operators\n",
    "\n",
    "Operator\tDescription \tExample\t \n",
    "\n",
    "in \t| Returns True if a sequence with the specified value is present in the object |\tx in y\t\n",
    "\n",
    "not in |\tReturns True if a sequence with the specified value is not present in the object | x not in y"
   ]
  },
  {
   "cell_type": "markdown",
   "metadata": {},
   "source": [
    "##### Operator Precedence\n",
    "\n",
    "Operator\tDescription \n",
    "\n",
    "() |\tParentheses\t\n",
    "\n",
    "** |\tExponentiation\t\n",
    "\n",
    "\\+x  -x  ~x |\tUnary plus, unary minus, and bitwise NOT\t\n",
    "\n",
    "\\*  /  //   % |\tMultiplication, division, floor division, and modulus\t\n",
    "\n",
    "\\+  - |\tAddition and subtraction\t\n",
    "\n",
    "<<  >> |\tBitwise left and right shifts\t\n",
    "\n",
    "& |\tBitwise AND\t\n",
    "\n",
    "^ |\tBitwise XOR\t\n",
    "\n",
    "| |\tBitwise OR\t\n",
    "\n",
    "==  !=  >  >=  <  <=  is  is not  in  not in | \tComparisons, identity, and membership operators\t\n",
    "\n",
    "not\t| Logical NOT\t\n",
    "\n",
    "and\t| AND\t\n",
    "\n",
    "or\t| OR"
   ]
  }
 ],
 "metadata": {
  "language_info": {
   "name": "python"
  }
 },
 "nbformat": 4,
 "nbformat_minor": 2
}

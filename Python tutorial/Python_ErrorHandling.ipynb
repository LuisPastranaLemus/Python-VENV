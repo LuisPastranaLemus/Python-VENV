{
 "cells": [
  {
   "cell_type": "markdown",
   "metadata": {},
   "source": [
    "### Python Error Handling"
   ]
  },
  {
   "cell_type": "markdown",
   "metadata": {},
   "source": [
    "try: En este bloque colocas el código que quieres ejecutar. Si todo va bien, el código dentro del bloque try se ejecuta sin problemas.\n",
    "\n",
    "except: Si ocurre un error dentro del bloque try, Python salta al bloque except, donde puedes manejar el error de una manera controlada. En el ejemplo anterior, si se intenta dividir por cero, Python lanzaría una excepción ZeroDivisionError, y el bloque except la captura para imprimir un mensaje en lugar de que el programa se detenga abruptamente.\n",
    "\n",
    "En este caso:\n",
    "\n",
    "Si el usuario ingresa algo que no se puede convertir a entero (por ejemplo, letras), se ejecuta el bloque except ValueError.\n",
    "\n",
    "Si el usuario ingresa 0, se ejecuta el bloque except ZeroDivisionError.\n",
    "\n",
    "Usar else y finally (opcional):\n",
    "\n",
    "else: Se ejecuta si no ocurrió ninguna excepción dentro del bloque try.\n",
    "\n",
    "finally: Se ejecuta siempre, sin importar si ocurrió una excepción o no."
   ]
  },
  {
   "cell_type": "code",
   "execution_count": 1,
   "metadata": {},
   "outputs": [
    {
     "name": "stdout",
     "output_type": "stream",
     "text": [
      "¡Error! No ingresaste un número válido.\n",
      "Este bloque se ejecuta siempre.\n"
     ]
    }
   ],
   "source": [
    "try:\n",
    "    numero = int(input(\"Introduce un número: \"))\n",
    "    resultado = 10 / numero\n",
    "except ZeroDivisionError:\n",
    "    print(\"¡Error! No se puede dividir por cero.\")\n",
    "except ValueError:\n",
    "    print(\"¡Error! No ingresaste un número válido.\")\n",
    "else:\n",
    "    print(\"El resultado es:\", resultado)\n",
    "finally:\n",
    "    print(\"Este bloque se ejecuta siempre.\")"
   ]
  }
 ],
 "metadata": {
  "kernelspec": {
   "display_name": "Python-VENV-fXy5dZEI",
   "language": "python",
   "name": "python3"
  },
  "language_info": {
   "codemirror_mode": {
    "name": "ipython",
    "version": 3
   },
   "file_extension": ".py",
   "mimetype": "text/x-python",
   "name": "python",
   "nbconvert_exporter": "python",
   "pygments_lexer": "ipython3",
   "version": "3.13.2"
  }
 },
 "nbformat": 4,
 "nbformat_minor": 2
}

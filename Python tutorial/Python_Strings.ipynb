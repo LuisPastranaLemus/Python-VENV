{
 "cells": [
  {
   "cell_type": "markdown",
   "metadata": {},
   "source": [
    "### Python Strings"
   ]
  },
  {
   "cell_type": "markdown",
   "metadata": {},
   "source": [
    "##### Multiline Strings"
   ]
  },
  {
   "cell_type": "code",
   "execution_count": 2,
   "metadata": {},
   "outputs": [
    {
     "name": "stdout",
     "output_type": "stream",
     "text": [
      "This is a multiline String,\n",
      "formed by several lines,\n",
      "considered for long information to be output.\n"
     ]
    }
   ],
   "source": [
    "a = \"\"\"This is a multiline String,\n",
    "formed by several lines,\n",
    "considered for long information to be output.\"\"\"\n",
    "\n",
    "print(a)"
   ]
  },
  {
   "cell_type": "markdown",
   "metadata": {},
   "source": [
    "##### Strings are Arrays"
   ]
  },
  {
   "cell_type": "code",
   "execution_count": null,
   "metadata": {},
   "outputs": [
    {
     "name": "stdout",
     "output_type": "stream",
     "text": [
      "e\n"
     ]
    }
   ],
   "source": [
    "a = \"Hello, World!\"\n",
    "\n",
    "print(a[1])"
   ]
  },
  {
   "cell_type": "markdown",
   "metadata": {},
   "source": [
    "##### Loop through Strings"
   ]
  },
  {
   "cell_type": "code",
   "execution_count": 4,
   "metadata": {},
   "outputs": [
    {
     "name": "stdout",
     "output_type": "stream",
     "text": [
      "b\n",
      "a\n",
      "n\n",
      "a\n",
      "n\n",
      "a\n"
     ]
    }
   ],
   "source": [
    "for x in \"banana\":\n",
    "  print(x)"
   ]
  },
  {
   "cell_type": "markdown",
   "metadata": {},
   "source": [
    "##### String length"
   ]
  },
  {
   "cell_type": "code",
   "execution_count": null,
   "metadata": {},
   "outputs": [
    {
     "name": "stdout",
     "output_type": "stream",
     "text": [
      "13\n"
     ]
    }
   ],
   "source": [
    "a = \"Hello, World!\"\n",
    "\n",
    "print(len(a))"
   ]
  },
  {
   "cell_type": "markdown",
   "metadata": {},
   "source": [
    "##### Check String"
   ]
  },
  {
   "cell_type": "code",
   "execution_count": 10,
   "metadata": {},
   "outputs": [
    {
     "name": "stdout",
     "output_type": "stream",
     "text": [
      "True\n",
      "True\n",
      "Yes, 'expensive' is not present.\n",
      "Yes, 'free' is present.\n"
     ]
    }
   ],
   "source": [
    "txt = \"The best things in life are free!\"\n",
    "\n",
    "print(\"expensive\" not in txt)\n",
    "print(\"free\" in txt)\n",
    "\n",
    "if \"expensive\" not in txt:\n",
    "  print(\"Yes, 'expensive' is not present.\")\n",
    "\n",
    "if \"free\" in txt:\n",
    "  print(\"Yes, 'free' is present.\")"
   ]
  },
  {
   "cell_type": "markdown",
   "metadata": {},
   "source": [
    "##### Slicing Strings\n",
    "Get the characters from position 2 to position 5 (not included)"
   ]
  },
  {
   "cell_type": "code",
   "execution_count": 11,
   "metadata": {},
   "outputs": [
    {
     "name": "stdout",
     "output_type": "stream",
     "text": [
      "llo\n"
     ]
    }
   ],
   "source": [
    "b = \"Hello, World!\"\n",
    "\n",
    "print(b[2:5])"
   ]
  },
  {
   "cell_type": "markdown",
   "metadata": {},
   "source": [
    "From Start"
   ]
  },
  {
   "cell_type": "code",
   "execution_count": 12,
   "metadata": {},
   "outputs": [
    {
     "name": "stdout",
     "output_type": "stream",
     "text": [
      "Hello\n"
     ]
    }
   ],
   "source": [
    "b = \"Hello, World!\"\n",
    "print(b[:5])"
   ]
  },
  {
   "cell_type": "markdown",
   "metadata": {},
   "source": [
    "To the End"
   ]
  },
  {
   "cell_type": "code",
   "execution_count": 13,
   "metadata": {},
   "outputs": [
    {
     "name": "stdout",
     "output_type": "stream",
     "text": [
      "llo, World!\n"
     ]
    }
   ],
   "source": [
    "b = \"Hello, World!\"\n",
    "print(b[2:])"
   ]
  },
  {
   "cell_type": "markdown",
   "metadata": {},
   "source": [
    "Negative indexing"
   ]
  },
  {
   "cell_type": "code",
   "execution_count": 14,
   "metadata": {},
   "outputs": [
    {
     "name": "stdout",
     "output_type": "stream",
     "text": [
      "orl\n"
     ]
    }
   ],
   "source": [
    "b = \"Hello, World!\"\n",
    "print(b[-5:-2])"
   ]
  },
  {
   "cell_type": "markdown",
   "metadata": {},
   "source": [
    "##### Modify Strings\n",
    "Upper Case"
   ]
  },
  {
   "cell_type": "code",
   "execution_count": 15,
   "metadata": {},
   "outputs": [
    {
     "name": "stdout",
     "output_type": "stream",
     "text": [
      "HELLO, WORLD!\n"
     ]
    }
   ],
   "source": [
    "a = \"Hello, World!\"\n",
    "print(a.upper())"
   ]
  },
  {
   "cell_type": "markdown",
   "metadata": {},
   "source": [
    "Lower Case"
   ]
  },
  {
   "cell_type": "code",
   "execution_count": 16,
   "metadata": {},
   "outputs": [
    {
     "name": "stdout",
     "output_type": "stream",
     "text": [
      "hello, world!\n"
     ]
    }
   ],
   "source": [
    "a = \"Hello, World!\"\n",
    "print(a.lower())"
   ]
  },
  {
   "cell_type": "markdown",
   "metadata": {},
   "source": [
    "Remove Whitespace"
   ]
  },
  {
   "cell_type": "code",
   "execution_count": 17,
   "metadata": {},
   "outputs": [
    {
     "name": "stdout",
     "output_type": "stream",
     "text": [
      "Hello, World!\n"
     ]
    }
   ],
   "source": [
    "a = \" Hello, World! \"\n",
    "print(a.strip()) # returns \"Hello, World!\""
   ]
  },
  {
   "cell_type": "markdown",
   "metadata": {},
   "source": [
    "Split String\n",
    "The split() method splits the string into substrings if it finds instances of the separator:"
   ]
  },
  {
   "cell_type": "code",
   "execution_count": 18,
   "metadata": {},
   "outputs": [
    {
     "name": "stdout",
     "output_type": "stream",
     "text": [
      "['Hello', ' World!']\n"
     ]
    }
   ],
   "source": [
    "a = \"Hello, World!\"\n",
    "print(a.split(\",\")) # returns ['Hello', ' World!']"
   ]
  },
  {
   "cell_type": "markdown",
   "metadata": {},
   "source": [
    "##### String concatenation"
   ]
  },
  {
   "cell_type": "code",
   "execution_count": 19,
   "metadata": {},
   "outputs": [
    {
     "name": "stdout",
     "output_type": "stream",
     "text": [
      "HelloWorld\n"
     ]
    }
   ],
   "source": [
    "a = \"Hello\"\n",
    "b = \"World\"\n",
    "c = a + b\n",
    "print(c)"
   ]
  },
  {
   "cell_type": "markdown",
   "metadata": {},
   "source": [
    "##### Place holder and modifiers"
   ]
  },
  {
   "cell_type": "code",
   "execution_count": 22,
   "metadata": {},
   "outputs": [
    {
     "ename": "TypeError",
     "evalue": "can only concatenate str (not \"int\") to str",
     "output_type": "error",
     "traceback": [
      "\u001b[31m---------------------------------------------------------------------------\u001b[39m",
      "\u001b[31mTypeError\u001b[39m                                 Traceback (most recent call last)",
      "\u001b[36mCell\u001b[39m\u001b[36m \u001b[39m\u001b[32mIn[22]\u001b[39m\u001b[32m, line 2\u001b[39m\n\u001b[32m      1\u001b[39m age = \u001b[32m36\u001b[39m\n\u001b[32m----> \u001b[39m\u001b[32m2\u001b[39m txt = \u001b[33;43m\"\u001b[39;49m\u001b[33;43mMy name is John, I am \u001b[39;49m\u001b[33;43m\"\u001b[39;49m\u001b[43m \u001b[49m\u001b[43m+\u001b[49m\u001b[43m \u001b[49m\u001b[43mage\u001b[49m\n\u001b[32m      3\u001b[39m \u001b[38;5;28mprint\u001b[39m(txt)\n",
      "\u001b[31mTypeError\u001b[39m: can only concatenate str (not \"int\") to str"
     ]
    }
   ],
   "source": [
    "age = 36\n",
    "txt = \"My name is John, I am \" + age\n",
    "print(txt)"
   ]
  },
  {
   "cell_type": "markdown",
   "metadata": {},
   "source": [
    "A placeholder can contain variables, operations, functions, and modifiers to format the value."
   ]
  },
  {
   "cell_type": "code",
   "execution_count": 20,
   "metadata": {},
   "outputs": [
    {
     "name": "stdout",
     "output_type": "stream",
     "text": [
      "The price is 59 dollars\n"
     ]
    }
   ],
   "source": [
    "price = 59\n",
    "txt = f\"The price is {price} dollars\"\n",
    "print(txt)"
   ]
  },
  {
   "cell_type": "markdown",
   "metadata": {},
   "source": [
    "A placeholder can include a modifier to format the value.\n",
    "\n",
    "A modifier is included by adding a colon : followed by a legal formatting type, like .2f which means fixed point number with 2 decimals:"
   ]
  },
  {
   "cell_type": "code",
   "execution_count": 23,
   "metadata": {},
   "outputs": [
    {
     "name": "stdout",
     "output_type": "stream",
     "text": [
      "The price is 59.00 dollars\n"
     ]
    }
   ],
   "source": [
    "price = 59\n",
    "txt = f\"The price is {price:.2f} dollars\"\n",
    "print(txt)"
   ]
  },
  {
   "cell_type": "markdown",
   "metadata": {},
   "source": [
    "A placeholder can contain Python code, like math operations:"
   ]
  },
  {
   "cell_type": "code",
   "execution_count": 24,
   "metadata": {},
   "outputs": [
    {
     "name": "stdout",
     "output_type": "stream",
     "text": [
      "The price is 1180 dollars\n"
     ]
    }
   ],
   "source": [
    "txt = f\"The price is {20 * 59} dollars\"\n",
    "print(txt)"
   ]
  },
  {
   "cell_type": "markdown",
   "metadata": {},
   "source": [
    ".format()"
   ]
  },
  {
   "cell_type": "code",
   "execution_count": 25,
   "metadata": {},
   "outputs": [
    {
     "name": "stdout",
     "output_type": "stream",
     "text": [
      "The sum of 5 and 10 is: 15\n"
     ]
    }
   ],
   "source": [
    "a = 5\n",
    "b = 10\n",
    "result = a + b\n",
    "\n",
    "print(\"The sum of {} and {} is: {}\"\n",
    "      .format(a, b, result))"
   ]
  },
  {
   "cell_type": "markdown",
   "metadata": {},
   "source": [
    "##### Escape Characters\n",
    "To insert characters that are illegal in a string, use an escape character.\n",
    "\n",
    "An escape character is a backslash \\ followed by the character you want to insert.\n",
    "\n",
    "\\\\'\tSingle Quote\t\n",
    "\n",
    "\\\\\\\tBackslash\t\n",
    "\n",
    "\\n\tNew Line\t\n",
    "\n",
    "\\r\tCarriage Return\t\n",
    "\n",
    "\\t\tTab\t\n",
    "\n",
    "\\b\tBackspace\t\n",
    "\n",
    "\\f\tForm Feed\t\n",
    "\n",
    "\\ooo\tOctal value\t\n",
    "\n",
    "\\xhh\tHex value"
   ]
  },
  {
   "cell_type": "code",
   "execution_count": 26,
   "metadata": {},
   "outputs": [
    {
     "name": "stdout",
     "output_type": "stream",
     "text": [
      "We are the so-called \"Vikings\" from the north.\n"
     ]
    }
   ],
   "source": [
    "txt = \"We are the so-called \\\"Vikings\\\" from the north.\"\n",
    "print(txt)"
   ]
  },
  {
   "cell_type": "markdown",
   "metadata": {},
   "source": [
    "##### Python String Methods\n",
    "\n",
    "Method\tDescription\n",
    "\n",
    "capitalize()\tConverts the first character to upper case\n",
    "\n",
    "casefold()\tConverts string into lower case\n",
    "\n",
    "center()\tReturns a centered string\n",
    "\n",
    "count()\tReturns the number of times a specified value occurs in a string\n",
    "\n",
    "encode()\tReturns an encoded version of the string\n",
    "\n",
    "endswith()\tReturns true if the string ends with the specified value\n",
    "\n",
    "expandtabs()\tSets the tab size of the string\n",
    "\n",
    "find()\tSearches the string for a specified value and returns the position of where it was found\n",
    "\n",
    "format()\tFormats specified values in a string\n",
    "\n",
    "format_map()\tFormats specified values in a string\n",
    "\n",
    "index()\tSearches the string for a specified value and returns the position of where it was found\n",
    "\n",
    "isalnum()\tReturns True if all characters in the string are alphanumeric\n",
    "\n",
    "isalpha()\tReturns True if all characters in the string are in the alphabet\n",
    "\n",
    "isascii()\tReturns True if all characters in the string are ascii characters\n",
    "\n",
    "isdecimal()\tReturns True if all characters in the string are decimals\n",
    "\n",
    "isdigit()\tReturns True if all characters in the string are digits\n",
    "\n",
    "isidentifier()\tReturns True if the string is an identifier\n",
    "\n",
    "islower()\tReturns True if all characters in the string are lower case\n",
    "\n",
    "isnumeric()\tReturns True if all characters in the string are numeric\n",
    "\n",
    "isprintable()\tReturns True if all characters in the string are printable\n",
    "\n",
    "isspace()\tReturns True if all characters in the string are whitespaces\n",
    "\n",
    "istitle()\tReturns True if the string follows the rules of a title\n",
    "\n",
    "isupper()\tReturns True if all characters in the string are upper case\n",
    "\n",
    "join()\tJoins the elements of an iterable to the end of the string\n",
    "\n",
    "ljust()\tReturns a left justified version of the string\n",
    "\n",
    "lower()\tConverts a string into lower case\n",
    "\n",
    "lstrip()\tReturns a left trim version of the string\n",
    "\n",
    "maketrans()\tReturns a translation table to be used in translations\n",
    "\n",
    "partition()\tReturns a tuple where the string is parted into three parts\n",
    "\n",
    "replace()\tReturns a string where a specified value is replaced with a specified value\n",
    "\n",
    "rfind()\tSearches the string for a specified value and returns the last position of where it was found\n",
    "\n",
    "rindex()\tSearches the string for a specified value and returns the last position of where it was found\n",
    "\n",
    "rjust()\tReturns a right justified version of the string\n",
    "\n",
    "rpartition()\tReturns a tuple where the string is parted into three parts\n",
    "\n",
    "rsplit()\tSplits the string at the specified separator, and returns a list\n",
    "\n",
    "rstrip()\tReturns a right trim version of the string\n",
    "\n",
    "split()\tSplits the string at the specified separator, and returns a list\n",
    "\n",
    "splitlines()\tSplits the string at line breaks and returns a list\n",
    "\n",
    "startswith()\tReturns true if the string starts with the specified value\n",
    "\n",
    "strip()\tReturns a trimmed version of the string\n",
    "\n",
    "swapcase()\tSwaps cases, lower case becomes upper case and vice versa\n",
    "\n",
    "title()\tConverts the first character of each word to upper case\n",
    "\n",
    "translate()\tReturns a translated string\n",
    "\n",
    "upper()\tConverts a string into upper case\n",
    "\n",
    "zfill()\tFills the string with a specified number of 0 values at the beginning"
   ]
  }
 ],
 "metadata": {
  "kernelspec": {
   "display_name": "Python-VENV-fXy5dZEI",
   "language": "python",
   "name": "python3"
  },
  "language_info": {
   "codemirror_mode": {
    "name": "ipython",
    "version": 3
   },
   "file_extension": ".py",
   "mimetype": "text/x-python",
   "name": "python",
   "nbconvert_exporter": "python",
   "pygments_lexer": "ipython3",
   "version": "3.13.2"
  }
 },
 "nbformat": 4,
 "nbformat_minor": 2
}
